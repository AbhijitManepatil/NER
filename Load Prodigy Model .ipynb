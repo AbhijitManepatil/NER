{
 "cells": [
  {
   "cell_type": "markdown",
   "id": "fbfe1187",
   "metadata": {},
   "source": [
    "### Step 1 : Load Trained Model"
   ]
  },
  {
   "cell_type": "code",
   "execution_count": 1,
   "id": "60620189",
   "metadata": {},
   "outputs": [],
   "source": [
    "import spacy\n",
    "import docx2txt"
   ]
  },
  {
   "cell_type": "code",
   "execution_count": 2,
   "id": "574aba8a",
   "metadata": {},
   "outputs": [],
   "source": [
    "# !pip install docx2txt"
   ]
  },
  {
   "cell_type": "code",
   "execution_count": 3,
   "id": "a8b5a234",
   "metadata": {},
   "outputs": [
    {
     "name": "stderr",
     "output_type": "stream",
     "text": [
      "/home/abhijit/anaconda3/envs/hrAnalytics/lib/python3.8/site-packages/spacy/util.py:865: UserWarning: [W095] Model 'en_pipeline' (0.0.0) was trained with spaCy v3.2 and may not be 100% compatible with the current version (3.4.1). If you see errors or degraded performance, download a newer compatible model or retrain your custom model with the current spaCy version. For more details and available updates, run: python -m spacy validate\n",
      "  warnings.warn(warn_msg)\n"
     ]
    }
   ],
   "source": [
    "custNlp = spacy.load(r\"./prodigyModel/model-best\") #load the best model\n"
   ]
  },
  {
   "cell_type": "code",
   "execution_count": 4,
   "id": "d621fa0a",
   "metadata": {},
   "outputs": [],
   "source": [
    "# !python -m spacy validate"
   ]
  },
  {
   "cell_type": "markdown",
   "id": "62b8fcf1",
   "metadata": {},
   "source": [
    "### Step 2: Read Source File and Convert to Text"
   ]
  },
  {
   "cell_type": "code",
   "execution_count": 5,
   "id": "c336f965",
   "metadata": {},
   "outputs": [],
   "source": [
    "Cv_PathToTest=\"./ResumeData/HarishBharatMali.docx\"\n",
    "cv_text = docx2txt.process(Cv_PathToTest)"
   ]
  },
  {
   "cell_type": "code",
   "execution_count": 13,
   "id": "9b155176",
   "metadata": {},
   "outputs": [],
   "source": [
    "# cv_text"
   ]
  },
  {
   "cell_type": "markdown",
   "id": "fc3fcd5a",
   "metadata": {},
   "source": [
    "### Step 3: Load Object"
   ]
  },
  {
   "cell_type": "code",
   "execution_count": 6,
   "id": "b50787f0",
   "metadata": {},
   "outputs": [
    {
     "data": {
      "text/html": [
       "<span class=\"tex2jax_ignore\"><div class=\"entities\" style=\"line-height: 2.5; direction: ltr\">\n",
       "<mark class=\"entity\" style=\"background: #ddd; padding: 0.45em 0.6em; margin: 0 0.25em; line-height: 1; border-radius: 0.35em;\">\n",
       "    Harish Bharat Mali\n",
       "    <span style=\"font-size: 0.8em; font-weight: bold; line-height: 1; border-radius: 0.35em; vertical-align: middle; margin-left: 0.5rem\">name</span>\n",
       "</mark>\n",
       "</br></br>Email id: harish15mali@gmail.com Contact (M) +91 9028575954/8788370587</br></br></br></br></br></br>PROFESSIONAL PROFILE</br></br></br></br>An experienced \n",
       "<mark class=\"entity\" style=\"background: #ddd; padding: 0.45em 0.6em; margin: 0 0.25em; line-height: 1; border-radius: 0.35em;\">\n",
       "    IT professional\n",
       "    <span style=\"font-size: 0.8em; font-weight: bold; line-height: 1; border-radius: 0.35em; vertical-align: middle; margin-left: 0.5rem\">designation</span>\n",
       "</mark>\n",
       " with nearly \n",
       "<mark class=\"entity\" style=\"background: #ddd; padding: 0.45em 0.6em; margin: 0 0.25em; line-height: 1; border-radius: 0.35em;\">\n",
       "    6.8 years of experience\n",
       "    <span style=\"font-size: 0.8em; font-weight: bold; line-height: 1; border-radius: 0.35em; vertical-align: middle; margin-left: 0.5rem\">Total_Experience</span>\n",
       "</mark>\n",
       " as \n",
       "<mark class=\"entity\" style=\"background: #ddd; padding: 0.45em 0.6em; margin: 0 0.25em; line-height: 1; border-radius: 0.35em;\">\n",
       "    Oracle\n",
       "    <span style=\"font-size: 0.8em; font-weight: bold; line-height: 1; border-radius: 0.35em; vertical-align: middle; margin-left: 0.5rem\">skills</span>\n",
       "</mark>\n",
       ", \n",
       "<mark class=\"entity\" style=\"background: #ddd; padding: 0.45em 0.6em; margin: 0 0.25em; line-height: 1; border-radius: 0.35em;\">\n",
       "    Cassandra Database administration\n",
       "    <span style=\"font-size: 0.8em; font-weight: bold; line-height: 1; border-radius: 0.35em; vertical-align: middle; margin-left: 0.5rem\">skills</span>\n",
       "</mark>\n",
       " \n",
       "<mark class=\"entity\" style=\"background: #ddd; padding: 0.45em 0.6em; margin: 0 0.25em; line-height: 1; border-radius: 0.35em;\">\n",
       "    3 years of experience &amp;\n",
       "    <span style=\"font-size: 0.8em; font-weight: bold; line-height: 1; border-radius: 0.35em; vertical-align: middle; margin-left: 0.5rem\">Total_Experience</span>\n",
       "</mark>\n",
       " Finnone and salesforce 3.8 years. I have the ability to provide the technical support and implementation while working on Oracle Database.</br></br>\t\tHaving \n",
       "<mark class=\"entity\" style=\"background: #ddd; padding: 0.45em 0.6em; margin: 0 0.25em; line-height: 1; border-radius: 0.35em;\">\n",
       "    6.8 Years of work experience\n",
       "    <span style=\"font-size: 0.8em; font-weight: bold; line-height: 1; border-radius: 0.35em; vertical-align: middle; margin-left: 0.5rem\">Total_Experience</span>\n",
       "</mark>\n",
       " in Process Associate and \n",
       "<mark class=\"entity\" style=\"background: #ddd; padding: 0.45em 0.6em; margin: 0 0.25em; line-height: 1; border-radius: 0.35em;\">\n",
       "    Database Administrator\n",
       "    <span style=\"font-size: 0.8em; font-weight: bold; line-height: 1; border-radius: 0.35em; vertical-align: middle; margin-left: 0.5rem\">designation</span>\n",
       "</mark>\n",
       ".</br></br>\t\tCurrently working as \n",
       "<mark class=\"entity\" style=\"background: #ddd; padding: 0.45em 0.6em; margin: 0 0.25em; line-height: 1; border-radius: 0.35em;\">\n",
       "    Process Associate\n",
       "    <span style=\"font-size: 0.8em; font-weight: bold; line-height: 1; border-radius: 0.35em; vertical-align: middle; margin-left: 0.5rem\">designation</span>\n",
       "</mark>\n",
       " for \n",
       "<mark class=\"entity\" style=\"background: #ddd; padding: 0.45em 0.6em; margin: 0 0.25em; line-height: 1; border-radius: 0.35em;\">\n",
       "    Tata Consultancy Services Limited\n",
       "    <span style=\"font-size: 0.8em; font-weight: bold; line-height: 1; border-radius: 0.35em; vertical-align: middle; margin-left: 0.5rem\">company_names</span>\n",
       "</mark>\n",
       " Pune on payroll of \n",
       "<mark class=\"entity\" style=\"background: #ddd; padding: 0.45em 0.6em; margin: 0 0.25em; line-height: 1; border-radius: 0.35em;\">\n",
       "    Tata Consultancy Services Limited\n",
       "    <span style=\"font-size: 0.8em; font-weight: bold; line-height: 1; border-radius: 0.35em; vertical-align: middle; margin-left: 0.5rem\">company_names</span>\n",
       "</mark>\n",
       " \n",
       "<mark class=\"entity\" style=\"background: #ddd; padding: 0.45em 0.6em; margin: 0 0.25em; line-height: 1; border-radius: 0.35em;\">\n",
       "    Pune\n",
       "    <span style=\"font-size: 0.8em; font-weight: bold; line-height: 1; border-radius: 0.35em; vertical-align: middle; margin-left: 0.5rem\">Location</span>\n",
       "</mark>\n",
       ", from \n",
       "<mark class=\"entity\" style=\"background: #ddd; padding: 0.45em 0.6em; margin: 0 0.25em; line-height: 1; border-radius: 0.35em;\">\n",
       "    February 2016 to present\n",
       "    <span style=\"font-size: 0.8em; font-weight: bold; line-height: 1; border-radius: 0.35em; vertical-align: middle; margin-left: 0.5rem\">Experience</span>\n",
       "</mark>\n",
       ".</br></br>\t\tPreviously worked as \n",
       "<mark class=\"entity\" style=\"background: #ddd; padding: 0.45em 0.6em; margin: 0 0.25em; line-height: 1; border-radius: 0.35em;\">\n",
       "    Process Associate\n",
       "    <span style=\"font-size: 0.8em; font-weight: bold; line-height: 1; border-radius: 0.35em; vertical-align: middle; margin-left: 0.5rem\">designation</span>\n",
       "</mark>\n",
       " for \n",
       "<mark class=\"entity\" style=\"background: #ddd; padding: 0.45em 0.6em; margin: 0 0.25em; line-height: 1; border-radius: 0.35em;\">\n",
       "    Tata Consultancy Services Limited\n",
       "    <span style=\"font-size: 0.8em; font-weight: bold; line-height: 1; border-radius: 0.35em; vertical-align: middle; margin-left: 0.5rem\">company_names</span>\n",
       "</mark>\n",
       " \n",
       "<mark class=\"entity\" style=\"background: #ddd; padding: 0.45em 0.6em; margin: 0 0.25em; line-height: 1; border-radius: 0.35em;\">\n",
       "    Pune\n",
       "    <span style=\"font-size: 0.8em; font-weight: bold; line-height: 1; border-radius: 0.35em; vertical-align: middle; margin-left: 0.5rem\">Location</span>\n",
       "</mark>\n",
       ", under the payroll of FUTURZ from \n",
       "<mark class=\"entity\" style=\"background: #ddd; padding: 0.45em 0.6em; margin: 0 0.25em; line-height: 1; border-radius: 0.35em;\">\n",
       "    September 2014 to February 2016\n",
       "    <span style=\"font-size: 0.8em; font-weight: bold; line-height: 1; border-radius: 0.35em; vertical-align: middle; margin-left: 0.5rem\">Experience</span>\n",
       "</mark>\n",
       ".</br></br></br></br>SKILLS</br></br></br></br>\t\t\n",
       "<mark class=\"entity\" style=\"background: #ddd; padding: 0.45em 0.6em; margin: 0 0.25em; line-height: 1; border-radius: 0.35em;\">\n",
       "    Database Administrator\n",
       "    <span style=\"font-size: 0.8em; font-weight: bold; line-height: 1; border-radius: 0.35em; vertical-align: middle; margin-left: 0.5rem\">designation</span>\n",
       "</mark>\n",
       " (\n",
       "<mark class=\"entity\" style=\"background: #ddd; padding: 0.45em 0.6em; margin: 0 0.25em; line-height: 1; border-radius: 0.35em;\">\n",
       "    Oracle\n",
       "    <span style=\"font-size: 0.8em; font-weight: bold; line-height: 1; border-radius: 0.35em; vertical-align: middle; margin-left: 0.5rem\">skills</span>\n",
       "</mark>\n",
       ", \n",
       "<mark class=\"entity\" style=\"background: #ddd; padding: 0.45em 0.6em; margin: 0 0.25em; line-height: 1; border-radius: 0.35em;\">\n",
       "    Cassandra\n",
       "    <span style=\"font-size: 0.8em; font-weight: bold; line-height: 1; border-radius: 0.35em; vertical-align: middle; margin-left: 0.5rem\">skills</span>\n",
       "</mark>\n",
       ")</br></br>\t\tOperating System: \n",
       "<mark class=\"entity\" style=\"background: #ddd; padding: 0.45em 0.6em; margin: 0 0.25em; line-height: 1; border-radius: 0.35em;\">\n",
       "    Linux\n",
       "    <span style=\"font-size: 0.8em; font-weight: bold; line-height: 1; border-radius: 0.35em; vertical-align: middle; margin-left: 0.5rem\">skills</span>\n",
       "</mark>\n",
       ", \n",
       "<mark class=\"entity\" style=\"background: #ddd; padding: 0.45em 0.6em; margin: 0 0.25em; line-height: 1; border-radius: 0.35em;\">\n",
       "    Unix\n",
       "    <span style=\"font-size: 0.8em; font-weight: bold; line-height: 1; border-radius: 0.35em; vertical-align: middle; margin-left: 0.5rem\">skills</span>\n",
       "</mark>\n",
       " .</br></br>\t\tDatabase Used: \n",
       "<mark class=\"entity\" style=\"background: #ddd; padding: 0.45em 0.6em; margin: 0 0.25em; line-height: 1; border-radius: 0.35em;\">\n",
       "    Oracle\n",
       "    <span style=\"font-size: 0.8em; font-weight: bold; line-height: 1; border-radius: 0.35em; vertical-align: middle; margin-left: 0.5rem\">skills</span>\n",
       "</mark>\n",
       " 12c, \n",
       "<mark class=\"entity\" style=\"background: #ddd; padding: 0.45em 0.6em; margin: 0 0.25em; line-height: 1; border-radius: 0.35em;\">\n",
       "    Oracle 19c\n",
       "    <span style=\"font-size: 0.8em; font-weight: bold; line-height: 1; border-radius: 0.35em; vertical-align: middle; margin-left: 0.5rem\">skills</span>\n",
       "</mark>\n",
       ", \n",
       "<mark class=\"entity\" style=\"background: #ddd; padding: 0.45em 0.6em; margin: 0 0.25em; line-height: 1; border-radius: 0.35em;\">\n",
       "    Cassandra\n",
       "    <span style=\"font-size: 0.8em; font-weight: bold; line-height: 1; border-radius: 0.35em; vertical-align: middle; margin-left: 0.5rem\">skills</span>\n",
       "</mark>\n",
       " 6.7 &amp; 6.8</br></br>\t\tTools Used: ServiceNow, Kibana, \n",
       "<mark class=\"entity\" style=\"background: #ddd; padding: 0.45em 0.6em; margin: 0 0.25em; line-height: 1; border-radius: 0.35em;\">\n",
       "    Talena\n",
       "    <span style=\"font-size: 0.8em; font-weight: bold; line-height: 1; border-radius: 0.35em; vertical-align: middle; margin-left: 0.5rem\">skills</span>\n",
       "</mark>\n",
       ", \n",
       "<mark class=\"entity\" style=\"background: #ddd; padding: 0.45em 0.6em; margin: 0 0.25em; line-height: 1; border-radius: 0.35em;\">\n",
       "    Datastax\n",
       "    <span style=\"font-size: 0.8em; font-weight: bold; line-height: 1; border-radius: 0.35em; vertical-align: middle; margin-left: 0.5rem\">skills</span>\n",
       "</mark>\n",
       " ,\n",
       "<mark class=\"entity\" style=\"background: #ddd; padding: 0.45em 0.6em; margin: 0 0.25em; line-height: 1; border-radius: 0.35em;\">\n",
       "    Oracle Enterprise\n",
       "    <span style=\"font-size: 0.8em; font-weight: bold; line-height: 1; border-radius: 0.35em; vertical-align: middle; margin-left: 0.5rem\">company_names</span>\n",
       "</mark>\n",
       " Manager Cloud Control(OEM).</br></br></br></br>PROJECTS UNDERTAKEN</br></br></br></br></br></br></br></br>Title</br></br>Infrastructure Project For American Multinational Consumer Electronics Retailer</br></br>Client</br></br>BEST BUY</br></br>Technologies</br></br>\n",
       "<mark class=\"entity\" style=\"background: #ddd; padding: 0.45em 0.6em; margin: 0 0.25em; line-height: 1; border-radius: 0.35em;\">\n",
       "    Oracle 12c\n",
       "    <span style=\"font-size: 0.8em; font-weight: bold; line-height: 1; border-radius: 0.35em; vertical-align: middle; margin-left: 0.5rem\">skills</span>\n",
       "</mark>\n",
       ", \n",
       "<mark class=\"entity\" style=\"background: #ddd; padding: 0.45em 0.6em; margin: 0 0.25em; line-height: 1; border-radius: 0.35em;\">\n",
       "    Oracle 19c\n",
       "    <span style=\"font-size: 0.8em; font-weight: bold; line-height: 1; border-radius: 0.35em; vertical-align: middle; margin-left: 0.5rem\">skills</span>\n",
       "</mark>\n",
       "</br></br>Tools</br></br>\n",
       "<mark class=\"entity\" style=\"background: #ddd; padding: 0.45em 0.6em; margin: 0 0.25em; line-height: 1; border-radius: 0.35em;\">\n",
       "    ServiceNow\n",
       "    <span style=\"font-size: 0.8em; font-weight: bold; line-height: 1; border-radius: 0.35em; vertical-align: middle; margin-left: 0.5rem\">skills</span>\n",
       "</mark>\n",
       ", Kibana, \n",
       "<mark class=\"entity\" style=\"background: #ddd; padding: 0.45em 0.6em; margin: 0 0.25em; line-height: 1; border-radius: 0.35em;\">\n",
       "    Oracle Enterprise\n",
       "    <span style=\"font-size: 0.8em; font-weight: bold; line-height: 1; border-radius: 0.35em; vertical-align: middle; margin-left: 0.5rem\">company_names</span>\n",
       "</mark>\n",
       " Manager Cloud Control(OEM),Cyberark</br></br>Operating Systems</br></br>\n",
       "<mark class=\"entity\" style=\"background: #ddd; padding: 0.45em 0.6em; margin: 0 0.25em; line-height: 1; border-radius: 0.35em;\">\n",
       "    Unix\n",
       "    <span style=\"font-size: 0.8em; font-weight: bold; line-height: 1; border-radius: 0.35em; vertical-align: middle; margin-left: 0.5rem\">skills</span>\n",
       "</mark>\n",
       ", \n",
       "<mark class=\"entity\" style=\"background: #ddd; padding: 0.45em 0.6em; margin: 0 0.25em; line-height: 1; border-radius: 0.35em;\">\n",
       "    Linux\n",
       "    <span style=\"font-size: 0.8em; font-weight: bold; line-height: 1; border-radius: 0.35em; vertical-align: middle; margin-left: 0.5rem\">skills</span>\n",
       "</mark>\n",
       "</br></br>Roles</br></br>\n",
       "<mark class=\"entity\" style=\"background: #ddd; padding: 0.45em 0.6em; margin: 0 0.25em; line-height: 1; border-radius: 0.35em;\">\n",
       "    Oracle Database Administrator\n",
       "    <span style=\"font-size: 0.8em; font-weight: bold; line-height: 1; border-radius: 0.35em; vertical-align: middle; margin-left: 0.5rem\">designation</span>\n",
       "</mark>\n",
       "</br></br>Responsibilities</br></br>\t\tProactively Managing Database alerts and resolves them, Handling multiple database targets through \n",
       "<mark class=\"entity\" style=\"background: #ddd; padding: 0.45em 0.6em; margin: 0 0.25em; line-height: 1; border-radius: 0.35em;\">\n",
       "    Oracle\n",
       "    <span style=\"font-size: 0.8em; font-weight: bold; line-height: 1; border-radius: 0.35em; vertical-align: middle; margin-left: 0.5rem\">skills</span>\n",
       "</mark>\n",
       " Enterprise Manager.</br></br>\t\tCreating OEM Jobs and adding Targets in OEM.</br></br>\t\tUser management</br></br>\t\tDay to day administration of all the Production, UAT and development databases.</br></br>\t\tBasic Administration of Real Application Clusters.</br></br>\t\tInstallation and Patching of \n",
       "<mark class=\"entity\" style=\"background: #ddd; padding: 0.45em 0.6em; margin: 0 0.25em; line-height: 1; border-radius: 0.35em;\">\n",
       "    Oracle server\n",
       "    <span style=\"font-size: 0.8em; font-weight: bold; line-height: 1; border-radius: 0.35em; vertical-align: middle; margin-left: 0.5rem\">skills</span>\n",
       "</mark>\n",
       ". Determining impact and analysis of quarterly patches. Quarterly Database patching on Prod, Non-prod Databases.</br></br>\t\tYearly Cluster Patching on Prod and Non-prod clusters.</br></br>\t\tStandby Database Management.</br></br>\t\tDR sync issue resolution</br></br></br></br></br></br>\t\tValidating the backups in frequent intervals to ensure no data loss .</br></br>\t\tMonitoring memory, CPU utilization, disk utilization (I/O activity), kill session Active/Inactive, runtime of queries, etc.</br></br>\t\tMaintaining all databases required for development, testing, and production usage.</br></br>\t\tAdministrating repetitive problems and finding out long term solutions/ Root Cause analysis.</br></br>\t\tProvide timely support to resolve user queries.</br></br>\t\tStandby Database Rebuild using srdf</br></br>\t\tRestore point creation.</br></br>\t\tUser creation, role creation, and privilege management.</br></br>\t\tFulfilling service requests for Infrastructure Services using \n",
       "<mark class=\"entity\" style=\"background: #ddd; padding: 0.45em 0.6em; margin: 0 0.25em; line-height: 1; border-radius: 0.35em;\">\n",
       "    ITIL Framework\n",
       "    <span style=\"font-size: 0.8em; font-weight: bold; line-height: 1; border-radius: 0.35em; vertical-align: middle; margin-left: 0.5rem\">skills</span>\n",
       "</mark>\n",
       " (Incident Management, \n",
       "<mark class=\"entity\" style=\"background: #ddd; padding: 0.45em 0.6em; margin: 0 0.25em; line-height: 1; border-radius: 0.35em;\">\n",
       "    Change Management\n",
       "    <span style=\"font-size: 0.8em; font-weight: bold; line-height: 1; border-radius: 0.35em; vertical-align: middle; margin-left: 0.5rem\">skills</span>\n",
       "</mark>\n",
       " and \n",
       "<mark class=\"entity\" style=\"background: #ddd; padding: 0.45em 0.6em; margin: 0 0.25em; line-height: 1; border-radius: 0.35em;\">\n",
       "    Problem Management\n",
       "    <span style=\"font-size: 0.8em; font-weight: bold; line-height: 1; border-radius: 0.35em; vertical-align: middle; margin-left: 0.5rem\">Soft_Skills</span>\n",
       "</mark>\n",
       ").</br></br>\t\tDaily health checkup of system</br></br>\t\tDaily ticket review</br></br>\t\tBackup scheduling &amp; monitoring</br></br>\t\tAlert monitoring</br></br>\t\tCapacity planning</br></br>\t\tStarting &amp; stopping database, \n",
       "<mark class=\"entity\" style=\"background: #ddd; padding: 0.45em 0.6em; margin: 0 0.25em; line-height: 1; border-radius: 0.35em;\">\n",
       "    ASM\n",
       "    <span style=\"font-size: 0.8em; font-weight: bold; line-height: 1; border-radius: 0.35em; vertical-align: middle; margin-left: 0.5rem\">skills</span>\n",
       "</mark>\n",
       " .</br></br></br></br></br></br>Title</br></br>Infrastructure Project For American Multinational Consumer Electronics Retailer</br></br>Client</br></br>BEST BUY</br></br>Technologies</br></br>\n",
       "<mark class=\"entity\" style=\"background: #ddd; padding: 0.45em 0.6em; margin: 0 0.25em; line-height: 1; border-radius: 0.35em;\">\n",
       "    Cassandra\n",
       "    <span style=\"font-size: 0.8em; font-weight: bold; line-height: 1; border-radius: 0.35em; vertical-align: middle; margin-left: 0.5rem\">skills</span>\n",
       "</mark>\n",
       "</br></br>Tools</br></br>\n",
       "<mark class=\"entity\" style=\"background: #ddd; padding: 0.45em 0.6em; margin: 0 0.25em; line-height: 1; border-radius: 0.35em;\">\n",
       "    Datastax\n",
       "    <span style=\"font-size: 0.8em; font-weight: bold; line-height: 1; border-radius: 0.35em; vertical-align: middle; margin-left: 0.5rem\">skills</span>\n",
       "</mark>\n",
       " , \n",
       "<mark class=\"entity\" style=\"background: #ddd; padding: 0.45em 0.6em; margin: 0 0.25em; line-height: 1; border-radius: 0.35em;\">\n",
       "    ServiceNow\n",
       "    <span style=\"font-size: 0.8em; font-weight: bold; line-height: 1; border-radius: 0.35em; vertical-align: middle; margin-left: 0.5rem\">skills</span>\n",
       "</mark>\n",
       "</br></br>Operating Systems</br></br>\n",
       "<mark class=\"entity\" style=\"background: #ddd; padding: 0.45em 0.6em; margin: 0 0.25em; line-height: 1; border-radius: 0.35em;\">\n",
       "    Unix\n",
       "    <span style=\"font-size: 0.8em; font-weight: bold; line-height: 1; border-radius: 0.35em; vertical-align: middle; margin-left: 0.5rem\">skills</span>\n",
       "</mark>\n",
       ", \n",
       "<mark class=\"entity\" style=\"background: #ddd; padding: 0.45em 0.6em; margin: 0 0.25em; line-height: 1; border-radius: 0.35em;\">\n",
       "    Linux\n",
       "    <span style=\"font-size: 0.8em; font-weight: bold; line-height: 1; border-radius: 0.35em; vertical-align: middle; margin-left: 0.5rem\">skills</span>\n",
       "</mark>\n",
       "</br></br>Roles</br></br>\n",
       "<mark class=\"entity\" style=\"background: #ddd; padding: 0.45em 0.6em; margin: 0 0.25em; line-height: 1; border-radius: 0.35em;\">\n",
       "    Cassandra\n",
       "    <span style=\"font-size: 0.8em; font-weight: bold; line-height: 1; border-radius: 0.35em; vertical-align: middle; margin-left: 0.5rem\">skills</span>\n",
       "</mark>\n",
       " \n",
       "<mark class=\"entity\" style=\"background: #ddd; padding: 0.45em 0.6em; margin: 0 0.25em; line-height: 1; border-radius: 0.35em;\">\n",
       "    Database Administrator\n",
       "    <span style=\"font-size: 0.8em; font-weight: bold; line-height: 1; border-radius: 0.35em; vertical-align: middle; margin-left: 0.5rem\">designation</span>\n",
       "</mark>\n",
       "</br></br>Responsibilities</br></br>\t\tProactively Managing Database alerts and resolves them, Handling multiple database .</br></br>\t\tDaily ticket review</br></br>\t\tAlert monitoring</br></br>\t\tStarting &amp; stopping datastax-agent &amp; dse Services</br></br>\t\tDaily health checkup of system</br></br>\t\tAlert monitoring</br></br>\t\tUser creation, role creation, and privilege management.</br></br>\t\tProvide timely support to resolve user queries.</br></br>\t\tTimely support to application team for query execution on DB &amp; resolve issue .</br></br>\t\tMaintaining all databases required for development, testing, and production usage.</br></br>\t\tDay to day administration of all the Production, UAT and development databases</br></br></br></br>Title</br></br>Bajaj FinServ lending (BFL Domestic leading finance service provider)</br></br>Client</br></br>Bajaj FinServ</br></br>Tools</br></br>Salesforce, Finnone, \n",
       "<mark class=\"entity\" style=\"background: #ddd; padding: 0.45em 0.6em; margin: 0 0.25em; line-height: 1; border-radius: 0.35em;\">\n",
       "    Excel\n",
       "    <span style=\"font-size: 0.8em; font-weight: bold; line-height: 1; border-radius: 0.35em; vertical-align: middle; margin-left: 0.5rem\">skills</span>\n",
       "</mark>\n",
       "</br></br>Operating Systems</br></br>Windows</br></br>Roles</br></br>\n",
       "<mark class=\"entity\" style=\"background: #ddd; padding: 0.45em 0.6em; margin: 0 0.25em; line-height: 1; border-radius: 0.35em;\">\n",
       "    Process Associate\n",
       "    <span style=\"font-size: 0.8em; font-weight: bold; line-height: 1; border-radius: 0.35em; vertical-align: middle; margin-left: 0.5rem\">designation</span>\n",
       "</mark>\n",
       "</br></br>Responsibilities</br></br>\t\tI have knowledge of banking tool like Finnone &amp; salesforce.</br></br>\t\tI have knowledge of part payment, rescheduling, wrong banking, Customer refund, Insurance cancellation, loan cancellation, Insurance cancelation refund.</br></br>\t\tGood knowledge of sales force.</br></br>\t\tDaily publish the report to client.</br></br>\t\tBulk refund process.</br></br>\t\tBulk insurance and loan cancellation and refund.</br></br>\t\tBulk part payment.</br></br>\t\tBounce charge refund.</br></br>\t\tCorrection in CIBIL report.</br></br></br></br>EDUCATIONAL QUALIFICATIONS</br></br></br></br></br></br>\t\t\n",
       "<mark class=\"entity\" style=\"background: #ddd; padding: 0.45em 0.6em; margin: 0 0.25em; line-height: 1; border-radius: 0.35em;\">\n",
       "    Post Graduation\n",
       "    <span style=\"font-size: 0.8em; font-weight: bold; line-height: 1; border-radius: 0.35em; vertical-align: middle; margin-left: 0.5rem\">degree</span>\n",
       "</mark>\n",
       " in M.B.A. (IT) from \n",
       "<mark class=\"entity\" style=\"background: #ddd; padding: 0.45em 0.6em; margin: 0 0.25em; line-height: 1; border-radius: 0.35em;\">\n",
       "    Bharati Vidyapeeth University.\n",
       "    <span style=\"font-size: 0.8em; font-weight: bold; line-height: 1; border-radius: 0.35em; vertical-align: middle; margin-left: 0.5rem\">college_name</span>\n",
       "</mark>\n",
       "</br></br>\t\t\n",
       "<mark class=\"entity\" style=\"background: #ddd; padding: 0.45em 0.6em; margin: 0 0.25em; line-height: 1; border-radius: 0.35em;\">\n",
       "    Bachelor of Commerce\n",
       "    <span style=\"font-size: 0.8em; font-weight: bold; line-height: 1; border-radius: 0.35em; vertical-align: middle; margin-left: 0.5rem\">degree</span>\n",
       "</mark>\n",
       " from Yashwantrao Chavan Maharashtra Open University.</br></br>\t\tH.S.C. in Science from Maharashtra State Board.</br></br>\t\tS.S.C. from Maharashtra State Board.</br></br></br></br>PERSONAL DETAILS</br></br></br></br>Date of Birth</br></br>\n",
       "<mark class=\"entity\" style=\"background: #ddd; padding: 0.45em 0.6em; margin: 0 0.25em; line-height: 1; border-radius: 0.35em;\">\n",
       "    15 June 1991\n",
       "    <span style=\"font-size: 0.8em; font-weight: bold; line-height: 1; border-radius: 0.35em; vertical-align: middle; margin-left: 0.5rem\">Experience</span>\n",
       "</mark>\n",
       ".</br></br>Local Address</br></br>Avanti Nagar, Solapur.</br></br>Marital Status</br></br>Married</br></br>Languages Known</br></br>\n",
       "<mark class=\"entity\" style=\"background: #ddd; padding: 0.45em 0.6em; margin: 0 0.25em; line-height: 1; border-radius: 0.35em;\">\n",
       "    English\n",
       "    <span style=\"font-size: 0.8em; font-weight: bold; line-height: 1; border-radius: 0.35em; vertical-align: middle; margin-left: 0.5rem\">Languages_Name</span>\n",
       "</mark>\n",
       ", \n",
       "<mark class=\"entity\" style=\"background: #ddd; padding: 0.45em 0.6em; margin: 0 0.25em; line-height: 1; border-radius: 0.35em;\">\n",
       "    Hindi\n",
       "    <span style=\"font-size: 0.8em; font-weight: bold; line-height: 1; border-radius: 0.35em; vertical-align: middle; margin-left: 0.5rem\">Languages_Name</span>\n",
       "</mark>\n",
       " and \n",
       "<mark class=\"entity\" style=\"background: #ddd; padding: 0.45em 0.6em; margin: 0 0.25em; line-height: 1; border-radius: 0.35em;\">\n",
       "    Marathi\n",
       "    <span style=\"font-size: 0.8em; font-weight: bold; line-height: 1; border-radius: 0.35em; vertical-align: middle; margin-left: 0.5rem\">Languages_Name</span>\n",
       "</mark>\n",
       ".</br></br>Hobbies</br></br>Swimming, Listening music, PC games.</br></br></br></br>DECLARATION</br></br></br></br></br></br>I hereby declare that all the information provided above is current and best to my knowledge and belief.</br></br></br></br>\tDate:\tSignature</br></br></br></br></br></br>\tPlace: \n",
       "<mark class=\"entity\" style=\"background: #ddd; padding: 0.45em 0.6em; margin: 0 0.25em; line-height: 1; border-radius: 0.35em;\">\n",
       "    Pune\n",
       "    <span style=\"font-size: 0.8em; font-weight: bold; line-height: 1; border-radius: 0.35em; vertical-align: middle; margin-left: 0.5rem\">Location</span>\n",
       "</mark>\n",
       "\t(Harish Mali)</div></span>"
      ],
      "text/plain": [
       "<IPython.core.display.HTML object>"
      ]
     },
     "metadata": {},
     "output_type": "display_data"
    },
    {
     "data": {
      "text/plain": [
       "[(Harish, 'name'),\n",
       " (Bharat, 'name'),\n",
       " (Mali, 'name'),\n",
       " (IT, 'designation'),\n",
       " (professional, 'designation'),\n",
       " (6.8, 'Total_Experience'),\n",
       " (years, 'Total_Experience'),\n",
       " (of, 'Total_Experience'),\n",
       " (experience, 'Total_Experience'),\n",
       " (Oracle, 'skills'),\n",
       " (Cassandra, 'skills'),\n",
       " (Database, 'skills'),\n",
       " (administration, 'skills'),\n",
       " (3, 'Total_Experience'),\n",
       " (years, 'Total_Experience'),\n",
       " (of, 'Total_Experience'),\n",
       " (experience, 'Total_Experience'),\n",
       " (&, 'Total_Experience'),\n",
       " (6.8, 'Total_Experience'),\n",
       " (Years, 'Total_Experience'),\n",
       " (of, 'Total_Experience'),\n",
       " (work, 'Total_Experience'),\n",
       " (experience, 'Total_Experience'),\n",
       " (Database, 'designation'),\n",
       " (Administrator, 'designation'),\n",
       " (Process, 'designation'),\n",
       " (Associate, 'designation'),\n",
       " (Tata, 'company_names'),\n",
       " (Consultancy, 'company_names'),\n",
       " (Services, 'company_names'),\n",
       " (Limited, 'company_names'),\n",
       " (Tata, 'company_names'),\n",
       " (Consultancy, 'company_names'),\n",
       " (Services, 'company_names'),\n",
       " (Limited, 'company_names'),\n",
       " (Pune, 'Location'),\n",
       " (February, 'Experience'),\n",
       " (2016, 'Experience'),\n",
       " (to, 'Experience'),\n",
       " (present, 'Experience'),\n",
       " (Process, 'designation'),\n",
       " (Associate, 'designation'),\n",
       " (Tata, 'company_names'),\n",
       " (Consultancy, 'company_names'),\n",
       " (Services, 'company_names'),\n",
       " (Limited, 'company_names'),\n",
       " (Pune, 'Location'),\n",
       " (September, 'Experience'),\n",
       " (2014, 'Experience'),\n",
       " (to, 'Experience'),\n",
       " (February, 'Experience'),\n",
       " (2016, 'Experience'),\n",
       " (Database, 'designation'),\n",
       " (Administrator, 'designation'),\n",
       " (Oracle, 'skills'),\n",
       " (Cassandra, 'skills'),\n",
       " (Linux, 'skills'),\n",
       " (Unix, 'skills'),\n",
       " (Oracle, 'skills'),\n",
       " (Oracle, 'skills'),\n",
       " (19c, 'skills'),\n",
       " (Cassandra, 'skills'),\n",
       " (Talena, 'skills'),\n",
       " (Datastax, 'skills'),\n",
       " (Oracle, 'company_names'),\n",
       " (Enterprise, 'company_names'),\n",
       " (Oracle, 'skills'),\n",
       " (12c, 'skills'),\n",
       " (Oracle, 'skills'),\n",
       " (19c, 'skills'),\n",
       " (ServiceNow, 'skills'),\n",
       " (Oracle, 'company_names'),\n",
       " (Enterprise, 'company_names'),\n",
       " (Unix, 'skills'),\n",
       " (Linux, 'skills'),\n",
       " (Oracle, 'designation'),\n",
       " (Database, 'designation'),\n",
       " (Administrator, 'designation'),\n",
       " (Oracle, 'skills'),\n",
       " (Oracle, 'skills'),\n",
       " (server, 'skills'),\n",
       " (ITIL, 'skills'),\n",
       " (Framework, 'skills'),\n",
       " (Change, 'skills'),\n",
       " (Management, 'skills'),\n",
       " (Problem, 'Soft_Skills'),\n",
       " (Management, 'Soft_Skills'),\n",
       " (ASM, 'skills'),\n",
       " (Cassandra, 'skills'),\n",
       " (Datastax, 'skills'),\n",
       " (ServiceNow, 'skills'),\n",
       " (Unix, 'skills'),\n",
       " (Linux, 'skills'),\n",
       " (Cassandra, 'skills'),\n",
       " (Database, 'designation'),\n",
       " (Administrator, 'designation'),\n",
       " (Excel, 'skills'),\n",
       " (Process, 'designation'),\n",
       " (Associate, 'designation'),\n",
       " (Post, 'degree'),\n",
       " (Graduation, 'degree'),\n",
       " (Bharati, 'college_name'),\n",
       " (Vidyapeeth, 'college_name'),\n",
       " (University, 'college_name'),\n",
       " (., 'college_name'),\n",
       " (Bachelor, 'degree'),\n",
       " (of, 'degree'),\n",
       " (Commerce, 'degree'),\n",
       " (15, 'Experience'),\n",
       " (June, 'Experience'),\n",
       " (1991, 'Experience'),\n",
       " (English, 'Languages_Name'),\n",
       " (Hindi, 'Languages_Name'),\n",
       " (Marathi, 'Languages_Name'),\n",
       " (Pune, 'Location')]"
      ]
     },
     "execution_count": 6,
     "metadata": {},
     "output_type": "execute_result"
    }
   ],
   "source": [
    "doc = custNlp(cv_text) # input sample text\n",
    "\n",
    "spacy.displacy.render(doc, style=\"ent\", jupyter=True) # display in Jupyter\n",
    "[(X, X.ent_type_) for X in doc if X.ent_type_]"
   ]
  },
  {
   "cell_type": "markdown",
   "id": "b365357f",
   "metadata": {},
   "source": [
    "### Step 4: Extract output Resume Entities"
   ]
  },
  {
   "cell_type": "code",
   "execution_count": 10,
   "id": "8d9d96f0",
   "metadata": {},
   "outputs": [
    {
     "name": "stdout",
     "output_type": "stream",
     "text": [
      "name  :  Harish Bharat Mali\n",
      "designation  :  IT professional\n",
      "Total_Experience  :  6.8 years of experience\n",
      "skills  :  Oracle\n",
      "skills  :  Cassandra Database administration\n",
      "Total_Experience  :  3 years of experience &\n",
      "Total_Experience  :  6.8 Years of work experience\n",
      "designation  :  Database Administrator\n",
      "designation  :  Process Associate\n",
      "company_names  :  Tata Consultancy Services Limited\n",
      "company_names  :  Tata Consultancy Services Limited\n",
      "Location  :  Pune\n",
      "Experience  :  February 2016 to present\n",
      "designation  :  Process Associate\n",
      "company_names  :  Tata Consultancy Services Limited\n",
      "Location  :  Pune\n",
      "Experience  :  September 2014 to February 2016\n",
      "designation  :  Database Administrator\n",
      "skills  :  Oracle\n",
      "skills  :  Cassandra\n",
      "skills  :  Linux\n",
      "skills  :  Unix\n",
      "skills  :  Oracle\n",
      "skills  :  Oracle 19c\n",
      "skills  :  Cassandra\n",
      "skills  :  Talena\n",
      "skills  :  Datastax\n",
      "company_names  :  Oracle Enterprise\n",
      "skills  :  Oracle 12c\n",
      "skills  :  Oracle 19c\n",
      "skills  :  ServiceNow\n",
      "company_names  :  Oracle Enterprise\n",
      "skills  :  Unix\n",
      "skills  :  Linux\n",
      "designation  :  Oracle Database Administrator\n",
      "skills  :  Oracle\n",
      "skills  :  Oracle server\n",
      "skills  :  ITIL Framework\n",
      "skills  :  Change Management\n",
      "Soft_Skills  :  Problem Management\n",
      "skills  :  ASM\n",
      "skills  :  Cassandra\n",
      "skills  :  Datastax\n",
      "skills  :  ServiceNow\n",
      "skills  :  Unix\n",
      "skills  :  Linux\n",
      "skills  :  Cassandra\n",
      "designation  :  Database Administrator\n",
      "skills  :  Excel\n",
      "designation  :  Process Associate\n",
      "degree  :  Post Graduation\n",
      "college_name  :  Bharati Vidyapeeth University.\n",
      "degree  :  Bachelor of Commerce\n",
      "Experience  :  15 June 1991\n",
      "Languages_Name  :  English\n",
      "Languages_Name  :  Hindi\n",
      "Languages_Name  :  Marathi\n",
      "Location  :  Pune\n"
     ]
    }
   ],
   "source": [
    "for entity in doc.ents:\n",
    "  print(entity.label_, ' : ', entity.text)"
   ]
  },
  {
   "cell_type": "code",
   "execution_count": 17,
   "id": "95840ce4",
   "metadata": {},
   "outputs": [],
   "source": [
    "# post-procesing"
   ]
  },
  {
   "cell_type": "code",
   "execution_count": 29,
   "id": "c5c931c5",
   "metadata": {},
   "outputs": [],
   "source": [
    "#for skills\n",
    "resume_data_skills=[]\n",
    "for entity in doc.ents:\n",
    "    if entity.label_ ==\"skills\":\n",
    "          resume_data_skills.append(entity.text)\n"
   ]
  },
  {
   "cell_type": "code",
   "execution_count": 51,
   "id": "a136a848",
   "metadata": {},
   "outputs": [
    {
     "name": "stdout",
     "output_type": "stream",
     "text": [
      "['Oracle', 'Cassandra Database administration', 'Oracle', 'Cassandra', 'Linux', 'Unix', 'Oracle', 'Oracle 19c', 'Cassandra', 'Talena', 'Datastax', 'Oracle 12c', 'Oracle 19c', 'ServiceNow', 'Unix', 'Linux', 'Oracle', 'Oracle server', 'ITIL Framework', 'Change Management', 'ASM', 'Cassandra', 'Datastax', 'ServiceNow', 'Unix', 'Linux', 'Cassandra', 'Excel']\n",
      "28\n"
     ]
    }
   ],
   "source": [
    "print(resume_data_skills)\n",
    "print(len(resume_data_skills))"
   ]
  },
  {
   "cell_type": "markdown",
   "id": "56103251",
   "metadata": {},
   "source": [
    "### Step 5: Extract Entities from JD"
   ]
  },
  {
   "cell_type": "code",
   "execution_count": 15,
   "id": "f61b87f7",
   "metadata": {},
   "outputs": [],
   "source": [
    "job_discription=\"Cassandra / Database Engineer    The person in this role will be responsible for creating an AWS/Azure based NoSQL solution to meet customer’s data requirements.  Customer uses Cassandra specifically and this person should be well-verse with complete working methodology of Cassandra service with AWS and should be able to solve large-scale distributed systems problems.  Should be able to deep dive into customers problems at database level and suggest solution for optimization and performance improvement.    Responsibilities:  • Design, build, enhance the data model of the Cassandra that is hosted in AWS/Azure and provide recommendations for performance improvement of systems.  • Be point-of-contact for customer in terms of data needs that are hosted in Cassandra or DataStax  • Build the DB to scale to meet customers’ needs and implement the needed performance engineering aspects into the system, to make the system perform optimally.  • Should be willing to work on DynamoDB and/or MongoDB as well.  Requirements:  • 4-7 years of overall experience, with at least 2 years of relevant experience in managing NoSQL databases (Cassandra) and in designing and implementing distributed systems.  • Hands-on experience and in-depth knowledge of Cassandra is required.  Experience in any other NoSQL DB (MongoDB, DynamoDB, Hadoop etc.) would be added advantage.  • Experience in DataStax is certainly a plus  • Experience with RDBMS along with SQL is added plus.  • Should be able to recommend and modify the parameters for the DynamoDB in AWS environment.  • Should have good understanding of cloud deployment models  • Should have knowledge of querying data in JSON format using any data viewing tools.  • Complete understanding of differences between SQL, NoSQL, GraphDB etc. is required  • Should have in-depth knowledge and experience handling data models that fit various data types.  Education:  • B.E/B.Tech/MCA or related disciplines\""
   ]
  },
  {
   "cell_type": "code",
   "execution_count": 20,
   "id": "9ca18636",
   "metadata": {},
   "outputs": [],
   "source": [
    "job_doc = custNlp(job_discription)"
   ]
  },
  {
   "cell_type": "code",
   "execution_count": 21,
   "id": "e93969fc",
   "metadata": {},
   "outputs": [
    {
     "name": "stdout",
     "output_type": "stream",
     "text": [
      "skills  :  Cassandra\n",
      "designation  :  Database Engineer\n",
      "skills  :  AWS\n",
      "skills  :  Azure\n",
      "skills  :  Cassandra service\n",
      "skills  :  AWS\n",
      "skills  :  AWS\n",
      "skills  :  Cassandra\n",
      "skills  :  MongoDB\n",
      "skills  :  NoSQL databases\n",
      "skills  :  Cassandra\n",
      "skills  :  NoSQL DB\n",
      "skills  :  MongoDB\n",
      "skills  :  DynamoDB\n",
      "skills  :  Hadoop\n",
      "skills  :  RDBMS\n",
      "skills  :  AWS\n",
      "skills  :  JSON\n",
      "skills  :  SQL\n",
      "skills  :  NoSQL\n",
      "degree  :  MCA\n"
     ]
    }
   ],
   "source": [
    "for entity in job_doc.ents:\n",
    "  print(entity.label_, ' : ', entity.text)"
   ]
  },
  {
   "cell_type": "code",
   "execution_count": 32,
   "id": "fdc3d219",
   "metadata": {},
   "outputs": [],
   "source": [
    "#for skills\n",
    "jd_data_skills=[]\n",
    "for entity in job_doc.ents:\n",
    "    if entity.label_ ==\"skills\":\n",
    "          jd_data_skills.append(entity.text)"
   ]
  },
  {
   "cell_type": "code",
   "execution_count": 52,
   "id": "100442d3",
   "metadata": {},
   "outputs": [
    {
     "name": "stdout",
     "output_type": "stream",
     "text": [
      "['Cassandra', 'AWS', 'Azure', 'Cassandra service', 'AWS', 'AWS', 'Cassandra', 'MongoDB', 'NoSQL databases', 'Cassandra', 'NoSQL DB', 'MongoDB', 'DynamoDB', 'Hadoop', 'RDBMS', 'AWS', 'JSON', 'SQL', 'NoSQL']\n",
      "19\n"
     ]
    }
   ],
   "source": [
    "print(jd_data_skills)\n",
    "print(len(jd_data_skills))"
   ]
  },
  {
   "cell_type": "markdown",
   "id": "b25634ee",
   "metadata": {},
   "source": [
    "## Step 6: Vectorization (Embeddings)\n",
    "     \n",
    "     - TFIDF\n",
    "     - word2vec (genism)"
   ]
  },
  {
   "cell_type": "code",
   "execution_count": 35,
   "id": "7bde1496",
   "metadata": {},
   "outputs": [],
   "source": [
    "# !pip install --upgrade gensim"
   ]
  },
  {
   "cell_type": "code",
   "execution_count": 36,
   "id": "1c4f1e0b",
   "metadata": {},
   "outputs": [],
   "source": [
    "# from gensim.models import Word2Vec"
   ]
  },
  {
   "cell_type": "code",
   "execution_count": 38,
   "id": "6cb5390e",
   "metadata": {},
   "outputs": [
    {
     "name": "stdout",
     "output_type": "stream",
     "text": [
      "Collecting scikit-learn\n",
      "  Downloading scikit_learn-1.1.3-cp38-cp38-manylinux_2_17_x86_64.manylinux2014_x86_64.whl (31.2 MB)\n",
      "\u001b[2K     \u001b[38;2;114;156;31m━━━━━━━━━━━━━━━━━━━━━━━━━━━━━━━━━━━━━━━━\u001b[0m \u001b[32m31.2/31.2 MB\u001b[0m \u001b[31m1.1 MB/s\u001b[0m eta \u001b[36m0:00:00\u001b[0mm eta \u001b[36m0:00:01\u001b[0m[36m0:00:01\u001b[0mm\n",
      "\u001b[?25hCollecting joblib>=1.0.0\n",
      "  Downloading joblib-1.2.0-py3-none-any.whl (297 kB)\n",
      "\u001b[2K     \u001b[38;2;114;156;31m━━━━━━━━━━━━━━━━━━━━━━━━━━━━━━━━━━━━━━━\u001b[0m \u001b[32m298.0/298.0 kB\u001b[0m \u001b[31m1.3 MB/s\u001b[0m eta \u001b[36m0:00:00\u001b[0mm eta \u001b[36m0:00:01\u001b[0m[36m0:00:01\u001b[0m\n",
      "\u001b[?25hRequirement already satisfied: numpy>=1.17.3 in /home/abhijit/anaconda3/envs/hrAnalytics/lib/python3.8/site-packages (from scikit-learn) (1.23.4)\n",
      "Requirement already satisfied: scipy>=1.3.2 in /home/abhijit/anaconda3/envs/hrAnalytics/lib/python3.8/site-packages (from scikit-learn) (1.9.3)\n",
      "Collecting threadpoolctl>=2.0.0\n",
      "  Using cached threadpoolctl-3.1.0-py3-none-any.whl (14 kB)\n",
      "Installing collected packages: threadpoolctl, joblib, scikit-learn\n",
      "Successfully installed joblib-1.2.0 scikit-learn-1.1.3 threadpoolctl-3.1.0\n"
     ]
    }
   ],
   "source": [
    "!pip install scikit-learn"
   ]
  },
  {
   "cell_type": "code",
   "execution_count": 69,
   "id": "6c9f4337",
   "metadata": {},
   "outputs": [],
   "source": [
    "from sklearn.metrics.pairwise import cosine_similarity\n",
    "from sklearn.feature_extraction.text import TfidfVectorizer\n",
    "import numpy as np"
   ]
  },
  {
   "cell_type": "code",
   "execution_count": 53,
   "id": "477f8243",
   "metadata": {},
   "outputs": [],
   "source": [
    "# Create TfidfVectorizer object\n",
    "vectorizer = TfidfVectorizer()\n",
    "\n",
    "# Generate matrix of word vectors\n",
    "tfidf_matrix_resume_data_skills = vectorizer.fit_transform(resume_data_skills)\n",
    "tfidf_matrix_jd_data_skills = vectorizer.transform(jd_data_skills)\n",
    "# Print the shape of tfidf_matrix\n",
    "# print(tfidf_matrix_resume_data_skills.shape)\n",
    "# print(tfidf_matrix_jd_data_skills.shape)"
   ]
  },
  {
   "cell_type": "markdown",
   "id": "a34166a4",
   "metadata": {},
   "source": [
    "## Step 7: Distance Matrix\n",
    "    - Cosine Similarity"
   ]
  },
  {
   "cell_type": "code",
   "execution_count": 59,
   "id": "9931d92e",
   "metadata": {},
   "outputs": [
    {
     "name": "stdout",
     "output_type": "stream",
     "text": [
      "[[0.         0.         0.         0.         0.         0.\n",
      "  0.         0.         0.         0.         0.         0.\n",
      "  0.         0.         0.         0.         0.         0.\n",
      "  0.        ]\n",
      " [0.44410998 0.         0.         0.44410998 0.         0.\n",
      "  0.44410998 0.         0.         0.44410998 0.         0.\n",
      "  0.         0.         0.         0.         0.         0.\n",
      "  0.        ]\n",
      " [0.         0.         0.         0.         0.         0.\n",
      "  0.         0.         0.         0.         0.         0.\n",
      "  0.         0.         0.         0.         0.         0.\n",
      "  0.        ]\n",
      " [1.         0.         0.         1.         0.         0.\n",
      "  1.         0.         0.         1.         0.         0.\n",
      "  0.         0.         0.         0.         0.         0.\n",
      "  0.        ]\n",
      " [0.         0.         0.         0.         0.         0.\n",
      "  0.         0.         0.         0.         0.         0.\n",
      "  0.         0.         0.         0.         0.         0.\n",
      "  0.        ]\n",
      " [0.         0.         0.         0.         0.         0.\n",
      "  0.         0.         0.         0.         0.         0.\n",
      "  0.         0.         0.         0.         0.         0.\n",
      "  0.        ]\n",
      " [0.         0.         0.         0.         0.         0.\n",
      "  0.         0.         0.         0.         0.         0.\n",
      "  0.         0.         0.         0.         0.         0.\n",
      "  0.        ]\n",
      " [0.         0.         0.         0.         0.         0.\n",
      "  0.         0.         0.         0.         0.         0.\n",
      "  0.         0.         0.         0.         0.         0.\n",
      "  0.        ]\n",
      " [1.         0.         0.         1.         0.         0.\n",
      "  1.         0.         0.         1.         0.         0.\n",
      "  0.         0.         0.         0.         0.         0.\n",
      "  0.        ]\n",
      " [0.         0.         0.         0.         0.         0.\n",
      "  0.         0.         0.         0.         0.         0.\n",
      "  0.         0.         0.         0.         0.         0.\n",
      "  0.        ]\n",
      " [0.         0.         0.         0.         0.         0.\n",
      "  0.         0.         0.         0.         0.         0.\n",
      "  0.         0.         0.         0.         0.         0.\n",
      "  0.        ]\n",
      " [0.         0.         0.         0.         0.         0.\n",
      "  0.         0.         0.         0.         0.         0.\n",
      "  0.         0.         0.         0.         0.         0.\n",
      "  0.        ]\n",
      " [0.         0.         0.         0.         0.         0.\n",
      "  0.         0.         0.         0.         0.         0.\n",
      "  0.         0.         0.         0.         0.         0.\n",
      "  0.        ]\n",
      " [0.         0.         0.         0.         0.         0.\n",
      "  0.         0.         0.         0.         0.         0.\n",
      "  0.         0.         0.         0.         0.         0.\n",
      "  0.        ]\n",
      " [0.         0.         0.         0.         0.         0.\n",
      "  0.         0.         0.         0.         0.         0.\n",
      "  0.         0.         0.         0.         0.         0.\n",
      "  0.        ]\n",
      " [0.         0.         0.         0.         0.         0.\n",
      "  0.         0.         0.         0.         0.         0.\n",
      "  0.         0.         0.         0.         0.         0.\n",
      "  0.        ]\n",
      " [0.         0.         0.         0.         0.         0.\n",
      "  0.         0.         0.         0.         0.         0.\n",
      "  0.         0.         0.         0.         0.         0.\n",
      "  0.        ]\n",
      " [0.         0.         0.         0.         0.         0.\n",
      "  0.         0.         0.         0.         0.         0.\n",
      "  0.         0.         0.         0.         0.         0.\n",
      "  0.        ]\n",
      " [0.         0.         0.         0.         0.         0.\n",
      "  0.         0.         0.         0.         0.         0.\n",
      "  0.         0.         0.         0.         0.         0.\n",
      "  0.        ]\n",
      " [0.         0.         0.         0.         0.         0.\n",
      "  0.         0.         0.         0.         0.         0.\n",
      "  0.         0.         0.         0.         0.         0.\n",
      "  0.        ]\n",
      " [0.         0.         0.         0.         0.         0.\n",
      "  0.         0.         0.         0.         0.         0.\n",
      "  0.         0.         0.         0.         0.         0.\n",
      "  0.        ]\n",
      " [1.         0.         0.         1.         0.         0.\n",
      "  1.         0.         0.         1.         0.         0.\n",
      "  0.         0.         0.         0.         0.         0.\n",
      "  0.        ]\n",
      " [0.         0.         0.         0.         0.         0.\n",
      "  0.         0.         0.         0.         0.         0.\n",
      "  0.         0.         0.         0.         0.         0.\n",
      "  0.        ]\n",
      " [0.         0.         0.         0.         0.         0.\n",
      "  0.         0.         0.         0.         0.         0.\n",
      "  0.         0.         0.         0.         0.         0.\n",
      "  0.        ]\n",
      " [0.         0.         0.         0.         0.         0.\n",
      "  0.         0.         0.         0.         0.         0.\n",
      "  0.         0.         0.         0.         0.         0.\n",
      "  0.        ]\n",
      " [0.         0.         0.         0.         0.         0.\n",
      "  0.         0.         0.         0.         0.         0.\n",
      "  0.         0.         0.         0.         0.         0.\n",
      "  0.        ]\n",
      " [1.         0.         0.         1.         0.         0.\n",
      "  1.         0.         0.         1.         0.         0.\n",
      "  0.         0.         0.         0.         0.         0.\n",
      "  0.        ]\n",
      " [0.         0.         0.         0.         0.         0.\n",
      "  0.         0.         0.         0.         0.         0.\n",
      "  0.         0.         0.         0.         0.         0.\n",
      "  0.        ]]\n"
     ]
    }
   ],
   "source": [
    "cosine = cosine_similarity(tfidf_matrix_resume_data_skills, tfidf_matrix_jd_data_skills)\n",
    "print(cosine)"
   ]
  },
  {
   "cell_type": "code",
   "execution_count": 60,
   "id": "8d848143",
   "metadata": {},
   "outputs": [
    {
     "name": "stdout",
     "output_type": "stream",
     "text": [
      "(28, 19)\n"
     ]
    }
   ],
   "source": [
    "print(cosine.shape)"
   ]
  },
  {
   "cell_type": "code",
   "execution_count": 62,
   "id": "37800c32",
   "metadata": {},
   "outputs": [
    {
     "name": "stdout",
     "output_type": "stream",
     "text": [
      "1.0\n"
     ]
    }
   ],
   "source": [
    "print(cosine.max())\n"
   ]
  },
  {
   "cell_type": "code",
   "execution_count": 63,
   "id": "8690aff8",
   "metadata": {},
   "outputs": [],
   "source": [
    "# get matching values"
   ]
  },
  {
   "cell_type": "code",
   "execution_count": 108,
   "id": "71e352e2",
   "metadata": {},
   "outputs": [
    {
     "name": "stdout",
     "output_type": "stream",
     "text": [
      "[(array([ 3,  3,  3,  3,  8,  8,  8,  8, 21, 21, 21, 21, 26, 26, 26, 26]), array([0, 3, 6, 9, 0, 3, 6, 9, 0, 3, 6, 9, 0, 3, 6, 9]))]\n"
     ]
    }
   ],
   "source": [
    "\n",
    "max = cosine.max()\n",
    "response_index = []\n",
    "# thread\n",
    "# if score is more than threthold\n",
    "if (max > 0.7):            \n",
    "        response_index.append(np.where(cosine == max)[0][0])\n",
    "        print(response_index)"
   ]
  },
  {
   "cell_type": "code",
   "execution_count": 105,
   "id": "6e5e1367",
   "metadata": {},
   "outputs": [],
   "source": [
    "# matched skills from Resume and JD\n",
    "for i in np.array(response_index)[0]:\n",
    "    print(i)\n",
    "    print(resume_data_skills[i])"
   ]
  },
  {
   "cell_type": "code",
   "execution_count": 94,
   "id": "7b019e47",
   "metadata": {},
   "outputs": [
    {
     "data": {
      "text/plain": [
       "['Oracle',\n",
       " 'Cassandra Database administration',\n",
       " 'Oracle',\n",
       " 'Cassandra',\n",
       " 'Linux',\n",
       " 'Unix',\n",
       " 'Oracle',\n",
       " 'Oracle 19c',\n",
       " 'Cassandra',\n",
       " 'Talena',\n",
       " 'Datastax',\n",
       " 'Oracle 12c',\n",
       " 'Oracle 19c',\n",
       " 'ServiceNow',\n",
       " 'Unix',\n",
       " 'Linux',\n",
       " 'Oracle',\n",
       " 'Oracle server',\n",
       " 'ITIL Framework',\n",
       " 'Change Management',\n",
       " 'ASM',\n",
       " 'Cassandra',\n",
       " 'Datastax',\n",
       " 'ServiceNow',\n",
       " 'Unix',\n",
       " 'Linux',\n",
       " 'Cassandra',\n",
       " 'Excel']"
      ]
     },
     "execution_count": 94,
     "metadata": {},
     "output_type": "execute_result"
    }
   ],
   "source": [
    "#Resume Parsed skills\n",
    "['Oracle', 'Cassandra Database administration', 'Oracle', 'Cassandra', 'Linux', 'Unix', 'Oracle', 'Oracle 19c', 'Cassandra', 'Talena', 'Datastax', 'Oracle 12c', 'Oracle 19c', 'ServiceNow', 'Unix', 'Linux', 'Oracle', 'Oracle server', 'ITIL Framework', 'Change Management', 'ASM', 'Cassandra', 'Datastax', 'ServiceNow', 'Unix', 'Linux', 'Cassandra', 'Excel']"
   ]
  },
  {
   "cell_type": "code",
   "execution_count": 93,
   "id": "17a0d486",
   "metadata": {},
   "outputs": [
    {
     "data": {
      "text/plain": [
       "['Cassandra',\n",
       " 'AWS',\n",
       " 'Azure',\n",
       " 'Cassandra service',\n",
       " 'AWS',\n",
       " 'AWS',\n",
       " 'Cassandra',\n",
       " 'MongoDB',\n",
       " 'NoSQL databases',\n",
       " 'Cassandra',\n",
       " 'NoSQL DB',\n",
       " 'MongoDB',\n",
       " 'DynamoDB',\n",
       " 'Hadoop',\n",
       " 'RDBMS',\n",
       " 'AWS',\n",
       " 'JSON',\n",
       " 'SQL',\n",
       " 'NoSQL']"
      ]
     },
     "execution_count": 93,
     "metadata": {},
     "output_type": "execute_result"
    }
   ],
   "source": [
    "#JD Parsed skills\n",
    "['Cassandra', 'AWS', 'Azure', 'Cassandra service', 'AWS', 'AWS', 'Cassandra', 'MongoDB', 'NoSQL databases', 'Cassandra', 'NoSQL DB', 'MongoDB', 'DynamoDB', 'Hadoop', 'RDBMS', 'AWS', 'JSON', 'SQL', 'NoSQL']\n"
   ]
  },
  {
   "cell_type": "code",
   "execution_count": null,
   "id": "877c882a",
   "metadata": {},
   "outputs": [],
   "source": []
  }
 ],
 "metadata": {
  "kernelspec": {
   "display_name": "Python [conda env:hrAnalytics] *",
   "language": "python",
   "name": "conda-env-hrAnalytics-py"
  },
  "language_info": {
   "codemirror_mode": {
    "name": "ipython",
    "version": 3
   },
   "file_extension": ".py",
   "mimetype": "text/x-python",
   "name": "python",
   "nbconvert_exporter": "python",
   "pygments_lexer": "ipython3",
   "version": "3.8.13"
  }
 },
 "nbformat": 4,
 "nbformat_minor": 5
}
