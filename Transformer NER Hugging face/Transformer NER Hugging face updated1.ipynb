{
 "cells": [
  {
   "cell_type": "code",
   "execution_count": 5,
   "id": "770bf4bf",
   "metadata": {},
   "outputs": [],
   "source": [
    "from transformers import AutoTokenizer, AutoModelForTokenClassification\n",
    "from transformers import pipeline\n",
    "\n"
   ]
  },
  {
   "cell_type": "code",
   "execution_count": 6,
   "id": "bfe52dcb",
   "metadata": {},
   "outputs": [],
   "source": [
    "tokenizer = AutoTokenizer.from_pretrained(\"dslim/bert-base-NER\")\n"
   ]
  },
  {
   "cell_type": "code",
   "execution_count": 7,
   "id": "b6d790bd",
   "metadata": {},
   "outputs": [],
   "source": [
    "model = AutoModelForTokenClassification.from_pretrained(\"dslim/bert-base-NER\")\n",
    "\n"
   ]
  },
  {
   "cell_type": "code",
   "execution_count": 8,
   "id": "4525958e",
   "metadata": {},
   "outputs": [],
   "source": [
    "nlp = pipeline(\"ner\", model=model, tokenizer=tokenizer)\n"
   ]
  },
  {
   "cell_type": "code",
   "execution_count": 9,
   "id": "1b33fb2f",
   "metadata": {},
   "outputs": [
    {
     "name": "stdout",
     "output_type": "stream",
     "text": [
      "[{'entity': 'B-PER', 'score': 0.99931765, 'index': 4, 'word': 'A', 'start': 13, 'end': 14}, {'entity': 'B-PER', 'score': 0.99261075, 'index': 5, 'word': '##b', 'start': 14, 'end': 15}, {'entity': 'B-PER', 'score': 0.9678587, 'index': 6, 'word': '##hi', 'start': 15, 'end': 17}, {'entity': 'I-PER', 'score': 0.48275986, 'index': 7, 'word': '##jit', 'start': 17, 'end': 20}, {'entity': 'B-LOC', 'score': 0.7191907, 'index': 11, 'word': 'Pune', 'start': 31, 'end': 35}, {'entity': 'B-ORG', 'score': 0.99774736, 'index': 12, 'word': 'T', 'start': 36, 'end': 37}, {'entity': 'I-ORG', 'score': 0.98750776, 'index': 13, 'word': '##CS', 'start': 37, 'end': 39}, {'entity': 'I-ORG', 'score': 0.99816567, 'index': 14, 'word': 'Technologies', 'start': 40, 'end': 52}]\n"
     ]
    }
   ],
   "source": [
    "# example = \"My name is Wolfgang and I live in Berlin\"\n",
    "example = \"Test my name Abhijit, leave in Pune TCS Technologies\"\n",
    "\n",
    "ner_results = nlp(example)\n",
    "print(ner_results)"
   ]
  },
  {
   "cell_type": "code",
   "execution_count": 6,
   "id": "500e6349",
   "metadata": {},
   "outputs": [],
   "source": [
    "#test pytorch\n",
    "# import torch"
   ]
  },
  {
   "cell_type": "code",
   "execution_count": 5,
   "id": "fbfabd9f",
   "metadata": {},
   "outputs": [
    {
     "name": "stdout",
     "output_type": "stream",
     "text": [
      "Looking in indexes: https://pypi.org/simple, https://download.pytorch.org/whl/cpu\n",
      "Collecting torch\n",
      "  Downloading https://download.pytorch.org/whl/cpu/torch-1.11.0%2Bcpu-cp38-cp38-linux_x86_64.whl (169.2 MB)\n",
      "\u001b[K     |████████████████████████████████| 169.2 MB 81 kB/s eta 0:00:011\n",
      "\u001b[?25hCollecting torchvision\n",
      "  Downloading https://download.pytorch.org/whl/cpu/torchvision-0.12.0%2Bcpu-cp38-cp38-linux_x86_64.whl (14.7 MB)\n",
      "\u001b[K     |████████████████████████████████| 14.7 MB 630 kB/s eta 0:00:01\n",
      "\u001b[?25hCollecting torchaudio\n",
      "  Downloading https://download.pytorch.org/whl/cpu/torchaudio-0.11.0%2Bcpu-cp38-cp38-linux_x86_64.whl (2.7 MB)\n",
      "\u001b[K     |████████████████████████████████| 2.7 MB 642 kB/s eta 0:00:01\n",
      "\u001b[?25hRequirement already satisfied: typing-extensions in /home/user/anaconda3/envs/transformer/lib/python3.8/site-packages (from torch) (4.1.1)\n",
      "Requirement already satisfied: numpy in /home/user/anaconda3/envs/transformer/lib/python3.8/site-packages (from torchvision) (1.22.3)\n",
      "Requirement already satisfied: requests in /home/user/.local/lib/python3.8/site-packages (from torchvision) (2.27.1)\n",
      "Collecting pillow!=8.3.*,>=5.3.0\n",
      "  Using cached Pillow-9.0.1-cp38-cp38-manylinux_2_17_x86_64.manylinux2014_x86_64.whl (4.3 MB)\n",
      "Requirement already satisfied: urllib3<1.27,>=1.21.1 in /home/user/anaconda3/envs/transformer/lib/python3.8/site-packages (from requests->torchvision) (1.26.9)\n",
      "Requirement already satisfied: certifi>=2017.4.17 in /home/user/anaconda3/envs/transformer/lib/python3.8/site-packages (from requests->torchvision) (2021.10.8)\n",
      "Requirement already satisfied: charset-normalizer~=2.0.0 in /home/user/.local/lib/python3.8/site-packages (from requests->torchvision) (2.0.12)\n",
      "Requirement already satisfied: idna<4,>=2.5 in /home/user/anaconda3/envs/transformer/lib/python3.8/site-packages (from requests->torchvision) (3.3)\n",
      "Installing collected packages: torch, pillow, torchvision, torchaudio\n",
      "Successfully installed pillow-9.0.1 torch-1.11.0+cpu torchaudio-0.11.0+cpu torchvision-0.12.0+cpu\n",
      "Note: you may need to restart the kernel to use updated packages.\n"
     ]
    }
   ],
   "source": [
    "# pip install torch torchvision torchaudio --extra-index-url https://download.pytorch.org/whl/cpu"
   ]
  },
  {
   "cell_type": "code",
   "execution_count": null,
   "id": "07b93221",
   "metadata": {},
   "outputs": [],
   "source": []
  }
 ],
 "metadata": {
  "kernelspec": {
   "display_name": "Python [conda env:transformer] *",
   "language": "python",
   "name": "conda-env-transformer-py"
  },
  "language_info": {
   "codemirror_mode": {
    "name": "ipython",
    "version": 3
   },
   "file_extension": ".py",
   "mimetype": "text/x-python",
   "name": "python",
   "nbconvert_exporter": "python",
   "pygments_lexer": "ipython3",
   "version": "3.8.12"
  }
 },
 "nbformat": 4,
 "nbformat_minor": 5
}
