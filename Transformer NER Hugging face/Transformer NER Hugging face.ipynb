{
 "cells": [
  {
   "cell_type": "code",
   "execution_count": 1,
   "id": "770bf4bf",
   "metadata": {},
   "outputs": [
    {
     "name": "stderr",
     "output_type": "stream",
     "text": [
      "/home/user/anaconda3/envs/transformer/lib/python3.8/site-packages/tqdm/auto.py:22: TqdmWarning: IProgress not found. Please update jupyter and ipywidgets. See https://ipywidgets.readthedocs.io/en/stable/user_install.html\n",
      "  from .autonotebook import tqdm as notebook_tqdm\n"
     ]
    }
   ],
   "source": [
    "from transformers import AutoTokenizer, AutoModelForTokenClassification\n",
    "from transformers import pipeline\n",
    "\n"
   ]
  },
  {
   "cell_type": "code",
   "execution_count": 2,
   "id": "bfe52dcb",
   "metadata": {},
   "outputs": [],
   "source": [
    "tokenizer = AutoTokenizer.from_pretrained(\"dslim/bert-base-NER\")\n"
   ]
  },
  {
   "cell_type": "code",
   "execution_count": 3,
   "id": "b6d790bd",
   "metadata": {},
   "outputs": [
    {
     "name": "stderr",
     "output_type": "stream",
     "text": [
      "Downloading: 100%|████████████████████████████| 413M/413M [09:46<00:00, 739kB/s]\n"
     ]
    }
   ],
   "source": [
    "model = AutoModelForTokenClassification.from_pretrained(\"dslim/bert-base-NER\")\n",
    "\n"
   ]
  },
  {
   "cell_type": "code",
   "execution_count": 4,
   "id": "4525958e",
   "metadata": {},
   "outputs": [],
   "source": [
    "nlp = pipeline(\"ner\", model=model, tokenizer=tokenizer)\n"
   ]
  },
  {
   "cell_type": "code",
   "execution_count": 7,
   "id": "1b33fb2f",
   "metadata": {},
   "outputs": [
    {
     "name": "stdout",
     "output_type": "stream",
     "text": [
      "[{'entity': 'B-PER', 'score': 0.99927145, 'index': 1, 'word': 'A', 'start': 0, 'end': 1}, {'entity': 'B-PER', 'score': 0.7920502, 'index': 2, 'word': '.', 'start': 1, 'end': 2}, {'entity': 'I-PER', 'score': 0.9981521, 'index': 3, 'word': 'Hari', 'start': 3, 'end': 7}, {'entity': 'I-PER', 'score': 0.991247, 'index': 4, 'word': '##sh', 'start': 7, 'end': 9}, {'entity': 'I-PER', 'score': 0.99538934, 'index': 5, 'word': 'V', 'start': 10, 'end': 11}, {'entity': 'I-PER', 'score': 0.93961096, 'index': 6, 'word': '##en', 'start': 11, 'end': 13}, {'entity': 'I-PER', 'score': 0.9605196, 'index': 7, 'word': '##kata', 'start': 13, 'end': 17}, {'entity': 'B-LOC', 'score': 0.6745824, 'index': 17, 'word': 'India', 'start': 33, 'end': 38}, {'entity': 'B-ORG', 'score': 0.9935596, 'index': 18, 'word': 'He', 'start': 39, 'end': 41}, {'entity': 'I-ORG', 'score': 0.99629956, 'index': 19, 'word': '##xa', 'start': 41, 'end': 43}, {'entity': 'I-ORG', 'score': 0.99824226, 'index': 20, 'word': '##ware', 'start': 43, 'end': 47}, {'entity': 'I-ORG', 'score': 0.9978683, 'index': 21, 'word': 'Technologies', 'start': 48, 'end': 60}]\n"
     ]
    }
   ],
   "source": [
    "# example = \"My name is Wolfgang and I live in Berlin\"\n",
    "example = \"A. Harish Venkata.avns@gmail.com India Hexaware Technologies\"\n",
    "\n",
    "ner_results = nlp(example)\n",
    "print(ner_results)"
   ]
  },
  {
   "cell_type": "code",
   "execution_count": 6,
   "id": "500e6349",
   "metadata": {},
   "outputs": [],
   "source": [
    "#test pytorch\n",
    "# import torch"
   ]
  },
  {
   "cell_type": "code",
   "execution_count": 5,
   "id": "fbfabd9f",
   "metadata": {},
   "outputs": [
    {
     "name": "stdout",
     "output_type": "stream",
     "text": [
      "Looking in indexes: https://pypi.org/simple, https://download.pytorch.org/whl/cpu\n",
      "Collecting torch\n",
      "  Downloading https://download.pytorch.org/whl/cpu/torch-1.11.0%2Bcpu-cp38-cp38-linux_x86_64.whl (169.2 MB)\n",
      "\u001b[K     |████████████████████████████████| 169.2 MB 81 kB/s eta 0:00:011\n",
      "\u001b[?25hCollecting torchvision\n",
      "  Downloading https://download.pytorch.org/whl/cpu/torchvision-0.12.0%2Bcpu-cp38-cp38-linux_x86_64.whl (14.7 MB)\n",
      "\u001b[K     |████████████████████████████████| 14.7 MB 630 kB/s eta 0:00:01\n",
      "\u001b[?25hCollecting torchaudio\n",
      "  Downloading https://download.pytorch.org/whl/cpu/torchaudio-0.11.0%2Bcpu-cp38-cp38-linux_x86_64.whl (2.7 MB)\n",
      "\u001b[K     |████████████████████████████████| 2.7 MB 642 kB/s eta 0:00:01\n",
      "\u001b[?25hRequirement already satisfied: typing-extensions in /home/user/anaconda3/envs/transformer/lib/python3.8/site-packages (from torch) (4.1.1)\n",
      "Requirement already satisfied: numpy in /home/user/anaconda3/envs/transformer/lib/python3.8/site-packages (from torchvision) (1.22.3)\n",
      "Requirement already satisfied: requests in /home/user/.local/lib/python3.8/site-packages (from torchvision) (2.27.1)\n",
      "Collecting pillow!=8.3.*,>=5.3.0\n",
      "  Using cached Pillow-9.0.1-cp38-cp38-manylinux_2_17_x86_64.manylinux2014_x86_64.whl (4.3 MB)\n",
      "Requirement already satisfied: urllib3<1.27,>=1.21.1 in /home/user/anaconda3/envs/transformer/lib/python3.8/site-packages (from requests->torchvision) (1.26.9)\n",
      "Requirement already satisfied: certifi>=2017.4.17 in /home/user/anaconda3/envs/transformer/lib/python3.8/site-packages (from requests->torchvision) (2021.10.8)\n",
      "Requirement already satisfied: charset-normalizer~=2.0.0 in /home/user/.local/lib/python3.8/site-packages (from requests->torchvision) (2.0.12)\n",
      "Requirement already satisfied: idna<4,>=2.5 in /home/user/anaconda3/envs/transformer/lib/python3.8/site-packages (from requests->torchvision) (3.3)\n",
      "Installing collected packages: torch, pillow, torchvision, torchaudio\n",
      "Successfully installed pillow-9.0.1 torch-1.11.0+cpu torchaudio-0.11.0+cpu torchvision-0.12.0+cpu\n",
      "Note: you may need to restart the kernel to use updated packages.\n"
     ]
    }
   ],
   "source": [
    "# pip install torch torchvision torchaudio --extra-index-url https://download.pytorch.org/whl/cpu"
   ]
  },
  {
   "cell_type": "code",
   "execution_count": null,
   "id": "07b93221",
   "metadata": {},
   "outputs": [],
   "source": []
  }
 ],
 "metadata": {
  "kernelspec": {
   "display_name": "Python [conda env:transformer] *",
   "language": "python",
   "name": "conda-env-transformer-py"
  },
  "language_info": {
   "codemirror_mode": {
    "name": "ipython",
    "version": 3
   },
   "file_extension": ".py",
   "mimetype": "text/x-python",
   "name": "python",
   "nbconvert_exporter": "python",
   "pygments_lexer": "ipython3",
   "version": "3.8.12"
  }
 },
 "nbformat": 4,
 "nbformat_minor": 5
}
