{
 "cells": [
  {
   "cell_type": "code",
   "execution_count": null,
   "id": "7565df27",
   "metadata": {},
   "outputs": [],
   "source": [
    "import json"
   ]
  },
  {
   "cell_type": "code",
   "execution_count": null,
   "id": "402affc3",
   "metadata": {},
   "outputs": [],
   "source": [
    "# Step:1 select file LightTag Annotation file\n",
    "jsonl_file=\"/home/user/HR Analytics/Light Tag/dharm_job_b1_annotations.json\"\n",
    "\n",
    "annotation_file_name=f\"{jsonl_file}\""
   ]
  },
  {
   "cell_type": "code",
   "execution_count": null,
   "id": "27c4d720",
   "metadata": {},
   "outputs": [],
   "source": [
    "##Step:2 fillter data\n",
    "def fillterLightTagData(annotation_file_name):\n",
    "    training_data = []\n",
    "    with open(annotation_file_name, 'r', encoding='utf-8') as f:\n",
    "            lines = f.readlines()\n",
    "    #         lines=J_lines[0]\n",
    "            for line in lines:\n",
    "    #             print(line)\n",
    "                data = json.loads(line)\n",
    "    #             print(\"data========\",data)\n",
    "    #             print(\"TEXT========>\",data['examples'])\n",
    "    #             print(\"====================================================================\")\n",
    "    #         for k,v in data.items():\n",
    "    #             print(\"keys====>\",data['examples'])\n",
    "            ###to get the text\n",
    "            for i in data['examples']:\n",
    "                    text=i['content']\n",
    "    #               print(\"check=====\",i['content'][904:910])\n",
    "\n",
    "                    annotation=i['annotations']\n",
    "                    entity=[]\n",
    "    #                 print(\"text=====================\",text)\n",
    "    #                 training_data.append(text,)\n",
    "                    for ano in annotation:\n",
    "                        anoList=[]\n",
    "                        anoList.append(ano['start'])\n",
    "                        anoList.append(ano['end'])\n",
    "                        anoList.append(ano['tag'])\n",
    "                        entity.append(anoList)\n",
    "    #                     print(\"==================**********************===========\",anoList)\n",
    "                    training_data.append((text,entity))\n",
    "    #             text = data['examples']\n",
    "    #             entities = data['examples']\n",
    "    return training_data\n",
    "\n",
    "#     print(\"#################################========================\",training_data)"
   ]
  },
  {
   "cell_type": "code",
   "execution_count": null,
   "id": "f7e58339",
   "metadata": {},
   "outputs": [],
   "source": [
    "#TRAIN_DATA is final filltered data used for Spacy model training supported format\n",
    "TRAIN_DATA=fillterLightTagData(annotation_file_name)"
   ]
  }
 ],
 "metadata": {
  "kernelspec": {
   "display_name": "Python [conda env:NER] *",
   "language": "python",
   "name": "conda-env-NER-py"
  },
  "language_info": {
   "codemirror_mode": {
    "name": "ipython",
    "version": 3
   },
   "file_extension": ".py",
   "mimetype": "text/x-python",
   "name": "python",
   "nbconvert_exporter": "python",
   "pygments_lexer": "ipython3",
   "version": "3.8.12"
  }
 },
 "nbformat": 4,
 "nbformat_minor": 5
}
