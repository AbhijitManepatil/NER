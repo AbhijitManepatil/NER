{
 "cells": [
  {
   "cell_type": "code",
   "execution_count": null,
   "id": "fc89db14",
   "metadata": {},
   "outputs": [],
   "source": [
    "#Dataturks to Spacy format converter"
   ]
  },
  {
   "cell_type": "code",
   "execution_count": null,
   "id": "895521f2",
   "metadata": {},
   "outputs": [],
   "source": [
    "import json"
   ]
  },
  {
   "cell_type": "code",
   "execution_count": null,
   "id": "2027df09",
   "metadata": {},
   "outputs": [],
   "source": [
    "import logging\n",
    "def convert_dataturks_to_spacy(dataturks_JSON_FilePath):\n",
    "    try:\n",
    "        training_data = []\n",
    "        lines = []\n",
    "        with open(dataturks_JSON_FilePath, 'r', encoding=\"utf8\") as f:\n",
    "            lines = f.readlines()\n",
    "\n",
    "        for line in lines:\n",
    "            data = json.loads(line)\n",
    "            text = data['content']\n",
    "            entities = []\n",
    "            if data['annotation'] is not None:\n",
    "                for annotation in data['annotation']:\n",
    "                    # only a single point in text annotation.\n",
    "                    point = annotation['points'][0]\n",
    "                    labels = annotation['label']\n",
    "                    # handle both list of labels or a single label.\n",
    "                    if not isinstance(labels, list):\n",
    "                        labels = [labels]\n",
    "\n",
    "                    for label in labels:\n",
    "                        # dataturks indices are both inclusive [start, end]\n",
    "                        # but spacy is not [start, end)\n",
    "                        #map new labels\n",
    "                        \n",
    "                        new_label=map_labels(label)\n",
    "                        if new_label != \"NONE\":\n",
    "                            entities.append((\n",
    "                                point['start'],\n",
    "                                point['end'] + 1,\n",
    "                                new_label\n",
    "                            ))\n",
    "\n",
    "            training_data.append((text, {\"entities\": entities}))\n",
    "        return training_data\n",
    "    except Exception:\n",
    "        logging.exception(\"Unable to process \" + dataturks_JSON_FilePath)\n",
    "        return None"
   ]
  },
  {
   "cell_type": "code",
   "execution_count": null,
   "id": "febad88a",
   "metadata": {},
   "outputs": [],
   "source": [
    "#pass raw Dataturks annotated data in parameter\n",
    "#TRAIN_DATA is a converted format supported by spacy to train model\n",
    "TRAIN_DATA = convert_dataturks_to_spacy(\"./cleanData/traindata_To_Clean.json\")"
   ]
  }
 ],
 "metadata": {
  "kernelspec": {
   "display_name": "Python [conda env:NER] *",
   "language": "python",
   "name": "conda-env-NER-py"
  },
  "language_info": {
   "codemirror_mode": {
    "name": "ipython",
    "version": 3
   },
   "file_extension": ".py",
   "mimetype": "text/x-python",
   "name": "python",
   "nbconvert_exporter": "python",
   "pygments_lexer": "ipython3",
   "version": "3.8.12"
  }
 },
 "nbformat": 4,
 "nbformat_minor": 5
}
