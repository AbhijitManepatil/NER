{
 "cells": [
  {
   "cell_type": "markdown",
   "id": "bec4d173",
   "metadata": {},
   "source": [
    "# Introduction to SpaCy and Cleaning Data"
   ]
  },
  {
   "cell_type": "markdown",
   "id": "a22c83b0",
   "metadata": {},
   "source": [
    "spaCy in Python for the purposes of performing natural language processing (NLP) on texts."
   ]
  },
  {
   "cell_type": "markdown",
   "id": "71a0c31b",
   "metadata": {},
   "source": [
    "ref: https://www.youtube.com/watch?v=8HZ4BjWMod4&list=PL2VXyKi-KpYvuOdPwXR-FZfmZ0hjoNSUo&index=1"
   ]
  },
  {
   "cell_type": "markdown",
   "id": "affb9916",
   "metadata": {},
   "source": [
    "env: NER"
   ]
  },
  {
   "cell_type": "code",
   "execution_count": 6,
   "id": "d5e74ad0",
   "metadata": {},
   "outputs": [],
   "source": [
    "#1.read the text file"
   ]
  },
  {
   "cell_type": "code",
   "execution_count": 182,
   "id": "7be11ac8",
   "metadata": {},
   "outputs": [],
   "source": [
    "with open (\"sample.txt\",\"r\") as f:\n",
    "#     text = f.read()\n",
    "    #for more accurate sentence formation by spacy with sm model add following preprocessing\n",
    "    text = f.read().replace(\"/n/n\", \" \").replace(\"/n\",\" \")\n",
    "#     print(text)"
   ]
  },
  {
   "cell_type": "code",
   "execution_count": null,
   "id": "62e55c27",
   "metadata": {},
   "outputs": [],
   "source": []
  },
  {
   "cell_type": "code",
   "execution_count": 183,
   "id": "4275a919",
   "metadata": {},
   "outputs": [],
   "source": [
    "#2. Intalll SpaCy\n",
    "#ref to : https://spacy.io/usage"
   ]
  },
  {
   "cell_type": "code",
   "execution_count": 184,
   "id": "130e486b",
   "metadata": {},
   "outputs": [],
   "source": [
    "# pip install -U spacy"
   ]
  },
  {
   "cell_type": "code",
   "execution_count": 185,
   "id": "5ac4acde",
   "metadata": {},
   "outputs": [],
   "source": [
    "#import libray\n",
    "import spacy"
   ]
  },
  {
   "cell_type": "code",
   "execution_count": 186,
   "id": "26365d63",
   "metadata": {},
   "outputs": [],
   "source": [
    "#load the spacy Model sm,md,lg\n",
    "#sm with 87% accuracy - en_core_web_sm  - size 13MB\n",
    "#md with 93% accuracy - en_core_web_md\n",
    "#lg with 95% accuracy - en_core_web_lg  - size 777 MB\n",
    "\n",
    "nlp = spacy.load(\"en_core_web_sm\")"
   ]
  },
  {
   "cell_type": "code",
   "execution_count": 187,
   "id": "82003656",
   "metadata": {},
   "outputs": [],
   "source": [
    "# !python -m spacy download en_core_web_sm\n",
    "# !python -m spacy download en_core_web_lg"
   ]
  },
  {
   "cell_type": "code",
   "execution_count": 188,
   "id": "19b8e66a",
   "metadata": {},
   "outputs": [],
   "source": [
    "#load text (input data) to the model\n",
    "doc = nlp(text)"
   ]
  },
  {
   "cell_type": "code",
   "execution_count": null,
   "id": "7ed75aaa",
   "metadata": {},
   "outputs": [],
   "source": []
  },
  {
   "cell_type": "code",
   "execution_count": 50,
   "id": "c6acfa21",
   "metadata": {},
   "outputs": [],
   "source": [
    "#3. break down all the documents in a sentences, helps to analysis each seperately\n",
    "sentences = list(doc.sents)"
   ]
  },
  {
   "cell_type": "code",
   "execution_count": 48,
   "id": "53a50621",
   "metadata": {},
   "outputs": [
    {
     "data": {
      "text/plain": [
       "24"
      ]
     },
     "execution_count": 48,
     "metadata": {},
     "output_type": "execute_result"
    }
   ],
   "source": [
    "len(sentences)"
   ]
  },
  {
   "cell_type": "code",
   "execution_count": 93,
   "id": "33dc7da0",
   "metadata": {},
   "outputs": [
    {
     "data": {
      "text/plain": [
       "Delhi-Varanasi High Speed Rail Corridor: Board bullet train  ..\n",
       "\n",
       "Read more at:\n",
       "http://timesofindia.indiatimes.com/articleshow/90407878.cms?utm_source=contentofinterest&utm_medium=text&utm_campaign=cppst\n",
       "Arvind Chauhan / TNN / Updated: Mar 24, 2022, 14:04 IS ..\n",
       "\n",
       "LUCKNOW:"
      ]
     },
     "execution_count": 93,
     "metadata": {},
     "output_type": "execute_result"
    }
   ],
   "source": [
    "#get a one sentence from a whole document for testing\n",
    "sentence=sentences[0]\n",
    "sentence"
   ]
  },
  {
   "cell_type": "code",
   "execution_count": null,
   "id": "9488e522",
   "metadata": {},
   "outputs": [],
   "source": []
  },
  {
   "cell_type": "code",
   "execution_count": null,
   "id": "f3827329",
   "metadata": {},
   "outputs": [],
   "source": [
    "#4. Detect Entity\n",
    "# .ents is used to identify the entities"
   ]
  },
  {
   "cell_type": "code",
   "execution_count": 95,
   "id": "3cbe8788",
   "metadata": {},
   "outputs": [
    {
     "data": {
      "text/plain": [
       "[Delhi-Varanasi High Speed Rail Corridor: Board, Arvind Chauhan, Mar 24, 2022]"
      ]
     },
     "execution_count": 95,
     "metadata": {},
     "output_type": "execute_result"
    }
   ],
   "source": [
    "#detect entites from selected sentence with .ents\n",
    "sentEnts=sentence.ents\n",
    "sentEnts"
   ]
  },
  {
   "cell_type": "code",
   "execution_count": 96,
   "id": "73a5842d",
   "metadata": {},
   "outputs": [
    {
     "name": "stdout",
     "output_type": "stream",
     "text": [
      "380\n",
      "PERSON\n",
      "Delhi-Varanasi High Speed Rail Corridor: Board\n"
     ]
    }
   ],
   "source": [
    "#for selected sentence\n",
    "print(sentEnts[0].label)  #\n",
    "print(sentEnts[0].label_) # Label name \n",
    "print(sentEnts[0].text)   # actual text"
   ]
  },
  {
   "cell_type": "code",
   "execution_count": 86,
   "id": "180a5d4a",
   "metadata": {},
   "outputs": [
    {
     "name": "stdout",
     "output_type": "stream",
     "text": [
      "PERSON\n"
     ]
    }
   ],
   "source": [
    "#for entire docs\n",
    "docEnts= doc.ents\n",
    "print(docEnts[0].label_)"
   ]
  },
  {
   "cell_type": "code",
   "execution_count": 91,
   "id": "87e25831",
   "metadata": {},
   "outputs": [
    {
     "name": "stdout",
     "output_type": "stream",
     "text": [
      "['Delhi-Varanasi High Speed Rail Corridor: Board', 'Arvind Chauhan', 'Rajya Sabha', 'Ganga Expressway', 'Hazrat Nizamuddin', 'Rae Bareli', 'Samruddhi Expressway', 'Hazrat Nizamuddin', 'Lucknow', 'Delhi-Amritsar']\n"
     ]
    }
   ],
   "source": [
    "#find only PERSON entities in entire docs\n",
    "persons=[]\n",
    "for ent in docEnts:\n",
    "    if ent.label_ == \"PERSON\":\n",
    "        persons.append(ent.text)\n",
    "print(persons)"
   ]
  },
  {
   "cell_type": "code",
   "execution_count": 92,
   "id": "f79dd259",
   "metadata": {},
   "outputs": [
    {
     "name": "stdout",
     "output_type": "stream",
     "text": [
      "PERSON — — —  Delhi-Varanasi High Speed Rail Corridor: Board\n",
      "PERSON — — —  Arvind Chauhan\n",
      "DATE — — —  Mar 24, 2022\n"
     ]
    }
   ],
   "source": [
    "#test with sentence\n",
    "for entity in sentEnts:\n",
    "    print(entity.label_, '— — — ', entity.text)"
   ]
  },
  {
   "cell_type": "code",
   "execution_count": null,
   "id": "cf624f45",
   "metadata": {},
   "outputs": [],
   "source": []
  },
  {
   "cell_type": "code",
   "execution_count": null,
   "id": "e5f688b9",
   "metadata": {},
   "outputs": [],
   "source": [
    "# 5. POS (PART OF Speech) "
   ]
  },
  {
   "cell_type": "code",
   "execution_count": 97,
   "id": "eb8ae60e",
   "metadata": {},
   "outputs": [],
   "source": [
    "# create a token from sentence then passs to the POS tags\n",
    "# POS identify the grammratical meaning of each token (word) like NOUN, VERB, ADJECTIVE etc"
   ]
  },
  {
   "cell_type": "code",
   "execution_count": 108,
   "id": "9c7f4bbe",
   "metadata": {},
   "outputs": [
    {
     "data": {
      "text/plain": [
       "Delhi-Varanasi High Speed Rail Corridor: Board bullet train  ..\n",
       "\n",
       "Read more at:\n",
       "http://timesofindia.indiatimes.com/articleshow/90407878.cms?utm_source=contentofinterest&utm_medium=text&utm_campaign=cppst\n",
       "Arvind Chauhan / TNN / Updated: Mar 24, 2022, 14:04 IS ..\n",
       "\n",
       "LUCKNOW:"
      ]
     },
     "execution_count": 108,
     "metadata": {},
     "output_type": "execute_result"
    }
   ],
   "source": [
    "#convert whole sentence in list\n",
    "sent=list(doc.sents)\n",
    "sentList=(sent[0]) #use this convert in sentence list\n",
    "sentList"
   ]
  },
  {
   "cell_type": "code",
   "execution_count": 109,
   "id": "3cfce81e",
   "metadata": {},
   "outputs": [
    {
     "name": "stdout",
     "output_type": "stream",
     "text": [
      "Delhi --- PROPN\n",
      "- --- PUNCT\n",
      "Varanasi --- PROPN\n",
      "High --- PROPN\n",
      "Speed --- PROPN\n",
      "Rail --- PROPN\n",
      "Corridor --- PROPN\n",
      ": --- PUNCT\n",
      "Board --- NOUN\n",
      "bullet --- NOUN\n",
      "train --- NOUN\n",
      "  --- SPACE\n",
      ".. --- PUNCT\n",
      "\n",
      "\n",
      " --- SPACE\n",
      "Read --- VERB\n",
      "more --- ADJ\n",
      "at --- ADP\n",
      ": --- PUNCT\n",
      "\n",
      " --- SPACE\n",
      "http://timesofindia.indiatimes.com/articleshow/90407878.cms?utm_source=contentofinterest&utm_medium=text&utm_campaign=cppst --- NOUN\n",
      "\n",
      " --- SPACE\n",
      "Arvind --- PROPN\n",
      "Chauhan --- PROPN\n",
      "/ --- SYM\n",
      "TNN --- PROPN\n",
      "/ --- SYM\n",
      "Updated --- VERB\n",
      ": --- PUNCT\n",
      "Mar --- PROPN\n",
      "24 --- NUM\n",
      ", --- PUNCT\n",
      "2022 --- NUM\n",
      ", --- PUNCT\n",
      "14:04 --- NUM\n",
      "IS --- AUX\n",
      ".. --- PUNCT\n",
      "\n",
      "\n",
      " --- SPACE\n",
      "LUCKNOW --- VERB\n",
      ": --- PUNCT\n"
     ]
    }
   ],
   "source": [
    "for token in sentList:\n",
    "    print(token.text, \"---\", token.pos_)"
   ]
  },
  {
   "cell_type": "code",
   "execution_count": null,
   "id": "9a9ee52a",
   "metadata": {},
   "outputs": [],
   "source": []
  },
  {
   "cell_type": "code",
   "execution_count": null,
   "id": "52db4eb8",
   "metadata": {},
   "outputs": [],
   "source": [
    "#6. Get Nouns from the POS\n"
   ]
  },
  {
   "cell_type": "code",
   "execution_count": 110,
   "id": "9f35ab2f",
   "metadata": {},
   "outputs": [
    {
     "name": "stdout",
     "output_type": "stream",
     "text": [
      "[Board, bullet, train, http://timesofindia.indiatimes.com/articleshow/90407878.cms?utm_source=contentofinterest&utm_medium=text&utm_campaign=cppst]\n"
     ]
    }
   ],
   "source": [
    "nouns=[]\n",
    "for token in sentList:\n",
    "    if token.pos_ == \"NOUN\":\n",
    "        nouns.append(token)\n",
    "        \n",
    "print(nouns)"
   ]
  },
  {
   "cell_type": "code",
   "execution_count": 114,
   "id": "91fc7eb3",
   "metadata": {},
   "outputs": [
    {
     "name": "stdout",
     "output_type": "stream",
     "text": [
      "[Delhi-Varanasi High Speed Rail Corridor]\n",
      "=== NOUNE CHUNKS FROM DOC ====\n",
      "[Delhi-Varanasi High Speed Rail Corridor, The Avadh crossing, the state capital, that, expressway, highway, city, the pit stop, the ‘Bullet Train, the Delhi-Varanasi High Speed Rail Corridor, DVHSR, February, a question, Rajya Sabha, the railway ministry, plans, a survey, the detailed project report, DPR, seven corridors, DVHSR, government officials, 13 stations, Uttar Pradesh, Delhi, the 813-km track, which, the train, 330 kmph, It, a minimum, 3 hours, 33 minutes, Varanasi, the national capital, limited halts, Nearly 15 km long tunnel, the underground station, the route alignment, DVHSR, the Yamuna and Agra-Lucknow Expressway, Ganga Expressway, forest, wildlife, the train, its station, Lucknow, the Avadh crossing, Total, 43 trains, day, the Avadh crossing station, an official, Hazrat Nizamuddin, the train, halts, Noida sector, 146 metro station, Jewar airport, Mathura, Agra, Etawah, Kannauj, Lucknow, Rae Bareli, Pratapgarh, Prayagraj, Bhadohi, Manduadih, Varanasi, A foot, bridge, FOB, the station, Avadh crossing, Singar Nagar Metro station, passengers, their destinations, the city, \n",
      "READ ALSO\n",
      "New plan, Nagpur, Mumbai, bullet train, just 3.5 hours, The Indian Railways, bullet train services, Nagpur, Mumbai, which, the approximately 766km distance, just three and a half hours, the soon-to-be-ready Samruddhi Expressway, The train, the highest speed, 350km, hour, Nagpur, Mumbai, bullet train, an FOB, the Prayagraj station, railway station, the proposed plan, 18 trains, the gap, 47 minutes, Varanasi, Delhi, the DVHSR underground station, opposite Hazrat Nizamuddin railway station, Noida, it, 146 Metro station, Jewar, the DVHSR station, part, the Jewar airport transport network, Delhi, High-strength tracks, RRTS, The existing tracks, Metro projects, India, trains, speed, up to 95 kmph, RRTS, trains, a design speed, 180 kmph, 160 kmph, tracks, Delhi, High-strength tracks, RRTS, authorities, another section, DVHSR, Lucknow, Ayodhya, that, cost feasibility, Delhi-Varanasi route, surveys, Varanasi-Howrah, Delhi-Amritsar, Delhi-Ahmedabad, Mumbai-Hyderabad, Mumbai-Nagpur, Chennai-Mysore, Bengaluru, the national high speed rail corporation, the Mumbai-Ahmedabad corridor]\n"
     ]
    }
   ],
   "source": [
    "#Noun chunks\n",
    "\n",
    "#from sentence\n",
    "print(list(sentList.noun_chunks))\n",
    "\n",
    "#from entire document\n",
    "print(\"=== NOUNE CHUNKS FROM DOC ====\")\n",
    "print(list(doc.noun_chunks))"
   ]
  },
  {
   "cell_type": "code",
   "execution_count": 119,
   "id": "1bf169b0",
   "metadata": {},
   "outputs": [
    {
     "name": "stdout",
     "output_type": "stream",
     "text": [
      "13 stations\n",
      "the underground station\n",
      "its station\n",
      "the Avadh crossing station\n",
      "146 metro station\n",
      "the station\n",
      "Singar Nagar Metro station\n",
      "the Prayagraj station\n",
      "railway station\n",
      "the DVHSR underground station\n",
      "opposite Hazrat Nizamuddin railway station\n",
      "146 Metro station\n",
      "the DVHSR station\n"
     ]
    }
   ],
   "source": [
    "# noun chunks are useful for to identify to find Noun is allocated with other words.\n",
    "# search for station but which, Noun chunks helps to get Noune with Chunks like ch. Shivaji Nagar Station\n",
    "\n",
    "for chunk in doc.noun_chunks:\n",
    "    if \"station\" in str(chunk):\n",
    "        print(chunk)"
   ]
  },
  {
   "cell_type": "code",
   "execution_count": null,
   "id": "eb49d4e0",
   "metadata": {},
   "outputs": [],
   "source": []
  },
  {
   "cell_type": "code",
   "execution_count": null,
   "id": "cc190130",
   "metadata": {},
   "outputs": [],
   "source": [
    "#7. Extracting Verbs and Verb Phrases\n",
    "# from trained data\n",
    "# whole document : doc\n",
    "# sentence[0]    : sentList"
   ]
  },
  {
   "cell_type": "code",
   "execution_count": null,
   "id": "6c411c09",
   "metadata": {},
   "outputs": [],
   "source": [
    "#use textacy to match the pattern of together words to get the meaningful data\n",
    "#https://pypi.org/project/textacy/\n",
    "# pip install textacy"
   ]
  },
  {
   "cell_type": "code",
   "execution_count": 121,
   "id": "c6b5669f",
   "metadata": {},
   "outputs": [],
   "source": [
    "# pip install textacy"
   ]
  },
  {
   "cell_type": "code",
   "execution_count": 131,
   "id": "67cfc8f4",
   "metadata": {},
   "outputs": [],
   "source": [
    "import textacy"
   ]
  },
  {
   "cell_type": "code",
   "execution_count": 136,
   "id": "f01b03a5",
   "metadata": {},
   "outputs": [],
   "source": [
    "#define pattern to get combination of meaningful words\n",
    "pattern=[{\"POS\":\"NOUN\"},{\"POS\":\"VERB\"}]"
   ]
  },
  {
   "cell_type": "code",
   "execution_count": 137,
   "id": "94e5173e",
   "metadata": {},
   "outputs": [],
   "source": [
    "#for entire doc\n",
    "# verb_patterns=textacy.extract.matches(doc, patterns=pattern)"
   ]
  },
  {
   "cell_type": "code",
   "execution_count": 135,
   "id": "21cd18f4",
   "metadata": {},
   "outputs": [],
   "source": [
    "# textacy.extract.matches()"
   ]
  },
  {
   "cell_type": "code",
   "execution_count": null,
   "id": "87fe0ec2",
   "metadata": {},
   "outputs": [],
   "source": []
  },
  {
   "cell_type": "code",
   "execution_count": 138,
   "id": "03b28275",
   "metadata": {},
   "outputs": [],
   "source": [
    "#8. Lemmatization: Finding the Roots of Words"
   ]
  },
  {
   "cell_type": "code",
   "execution_count": 142,
   "id": "bfcbc335",
   "metadata": {},
   "outputs": [
    {
     "name": "stdout",
     "output_type": "stream",
     "text": [
      "Read ====  read\n",
      "Updated ====  update\n",
      "LUCKNOW ====  lucknow\n"
     ]
    }
   ],
   "source": [
    "# get root word will helps to compare and get correct meaning\n",
    "#eg. boys- boy, played/playing - play\n",
    "\n",
    "\n",
    "#test with selected sentence from sentList\n",
    "\n",
    "for word in sentList:\n",
    "    if word.pos_ == \"VERB\":\n",
    "        print(word,\"==== \",word.lemma_) # lemma_ get the root word"
   ]
  },
  {
   "cell_type": "code",
   "execution_count": 144,
   "id": "cc5fd622",
   "metadata": {},
   "outputs": [
    {
     "name": "stdout",
     "output_type": "stream",
     "text": [
      "Board ====  board\n",
      "bullet ====  bullet\n",
      "train ====  train\n",
      "http://timesofindia.indiatimes.com/articleshow/90407878.cms?utm_source=contentofinterest&utm_medium=text&utm_campaign=cppst ====  http://timesofindia.indiatimes.com/articleshow/90407878.cms?utm_source=contentofinterest&utm_medium=text&utm_campaign=cppst\n",
      "crossing ====  crossing\n",
      "state ====  state\n",
      "capital ====  capital\n",
      "expressway ====  expressway\n",
      "highway ====  highway\n",
      "city ====  city\n",
      "pit ====  pit\n",
      "stop ====  stop\n",
      "question ====  question\n",
      "plans ====  plan\n",
      "survey ====  survey\n",
      "project ====  project\n",
      "report ====  report\n",
      "corridors ====  corridor\n",
      "government ====  government\n",
      "officials ====  official\n",
      "stations ====  station\n",
      "underground ====  underground\n",
      "km ====  km\n",
      "track ====  track\n",
      "train ====  train\n",
      "kmph ====  kmph\n",
      "minimum ====  minimum\n",
      "hours ====  hour\n",
      "minutes ====  minute\n",
      "capital ====  capital\n",
      "halts ====  halt\n",
      "km ====  km\n",
      "tunnel ====  tunnel\n",
      "station ====  station\n",
      "route ====  route\n",
      "alignment ====  alignment\n",
      "forest ====  forest\n",
      "wildlife ====  wildlife\n",
      "train ====  train\n",
      "station ====  station\n",
      "crossing ====  crossing\n",
      "Total ====  total\n",
      "trains ====  train\n",
      "day ====  day\n",
      "crossing ====  crossing\n",
      "station ====  station\n",
      "minutes ====  minute\n",
      "official ====  official\n",
      "train ====  train\n",
      "halts ====  halt\n",
      "sector ====  sector\n",
      "metro ====  metro\n",
      "station ====  station\n",
      "airport ====  airport\n",
      "foot ====  foot\n",
      "bridge ====  bridge\n",
      "station ====  station\n",
      "crossing ====  crossing\n",
      "station ====  station\n",
      "passengers ====  passenger\n",
      "destinations ====  destination\n",
      "city ====  city\n",
      "plan ====  plan\n",
      "bullet ====  bullet\n",
      "train ====  train\n",
      "hours ====  hour\n",
      "bullet ====  bullet\n",
      "train ====  train\n",
      "services ====  service\n",
      "km ====  km\n",
      "distance ====  distance\n",
      "half ====  half\n",
      "hours ====  hour\n",
      "train ====  train\n",
      "speed ====  speed\n",
      "km ====  km\n",
      "hour ====  hour\n",
      "plan ====  plan\n",
      "bullet ====  bullet\n",
      "train ====  train\n",
      "hours ====  hour\n",
      "FOB ====  fob\n",
      "station ====  station\n",
      "railway ====  railway\n",
      "station ====  station\n",
      "plan ====  plan\n",
      "trains ====  train\n",
      "gap ====  gap\n",
      "minutes ====  minute\n",
      "station ====  station\n",
      "railway ====  railway\n",
      "station ====  station\n",
      "station ====  station\n",
      "station ====  station\n",
      "part ====  part\n",
      "airport ====  airport\n",
      "transport ====  transport\n",
      "network ====  network\n",
      "strength ====  strength\n",
      "tracks ====  track\n",
      "trains ====  train\n",
      "tracks ====  track\n",
      "projects ====  project\n",
      "trains ====  train\n",
      "speed ====  speed\n",
      "kmph ====  kmph\n",
      "corridor ====  corridor\n",
      "trains ====  train\n",
      "design ====  design\n",
      "speed ====  speed\n",
      "kmph ====  kmph\n",
      "kmph ====  kmph\n",
      "tracks ====  track\n",
      "speed ====  speed\n",
      "strength ====  strength\n",
      "tracks ====  track\n",
      "trains ====  train\n",
      "authorities ====  authority\n",
      "section ====  section\n",
      "cost ====  cost\n",
      "feasibility ====  feasibility\n",
      "route ====  route\n",
      "surveys ====  survey\n",
      "speed ====  speed\n",
      "rail ====  rail\n",
      "corporation ====  corporation\n",
      "corridor ====  corridor\n"
     ]
    }
   ],
   "source": [
    "# for entire doc\n",
    "for word in doc:\n",
    "    if word.pos_ == \"NOUN\":\n",
    "        print(word,\"==== \",word.lemma_) # lemma_ get the root word"
   ]
  },
  {
   "cell_type": "code",
   "execution_count": null,
   "id": "d94dc4be",
   "metadata": {},
   "outputs": [],
   "source": []
  },
  {
   "cell_type": "code",
   "execution_count": 145,
   "id": "77f14605",
   "metadata": {},
   "outputs": [],
   "source": [
    "#9. Data Visualization with DisplaCy"
   ]
  },
  {
   "cell_type": "code",
   "execution_count": 146,
   "id": "5809112d",
   "metadata": {},
   "outputs": [],
   "source": [
    "from spacy import displacy"
   ]
  },
  {
   "cell_type": "code",
   "execution_count": 149,
   "id": "ce50bf18",
   "metadata": {},
   "outputs": [
    {
     "data": {
      "text/html": [
       "<span class=\"tex2jax_ignore\"><div class=\"entities\" style=\"line-height: 2.5; direction: ltr\">\n",
       "<mark class=\"entity\" style=\"background: #aa9cfc; padding: 0.45em 0.6em; margin: 0 0.25em; line-height: 1; border-radius: 0.35em;\">\n",
       "    Delhi-Varanasi High Speed Rail Corridor: Board\n",
       "    <span style=\"font-size: 0.8em; font-weight: bold; line-height: 1; border-radius: 0.35em; vertical-align: middle; margin-left: 0.5rem\">PERSON</span>\n",
       "</mark>\n",
       " bullet train  ..</br></br>Read more at:</br>http://timesofindia.indiatimes.com/articleshow/90407878.cms?utm_source=contentofinterest&amp;utm_medium=text&amp;utm_campaign=cppst</br>\n",
       "<mark class=\"entity\" style=\"background: #aa9cfc; padding: 0.45em 0.6em; margin: 0 0.25em; line-height: 1; border-radius: 0.35em;\">\n",
       "    Arvind Chauhan\n",
       "    <span style=\"font-size: 0.8em; font-weight: bold; line-height: 1; border-radius: 0.35em; vertical-align: middle; margin-left: 0.5rem\">PERSON</span>\n",
       "</mark>\n",
       " / TNN / Updated: \n",
       "<mark class=\"entity\" style=\"background: #bfe1d9; padding: 0.45em 0.6em; margin: 0 0.25em; line-height: 1; border-radius: 0.35em;\">\n",
       "    Mar 24, 2022\n",
       "    <span style=\"font-size: 0.8em; font-weight: bold; line-height: 1; border-radius: 0.35em; vertical-align: middle; margin-left: 0.5rem\">DATE</span>\n",
       "</mark>\n",
       ", 14:04 IS ..</br></br>LUCKNOW: </div></span>"
      ],
      "text/plain": [
       "<IPython.core.display.HTML object>"
      ]
     },
     "metadata": {},
     "output_type": "display_data"
    }
   ],
   "source": [
    "#save the visualization in html\n",
    "html= displacy.render(sentList, style=\"ent\")\n",
    "\n",
    "#save\n",
    "# with open (\"virtu.html\",\"w\") as f:\n",
    "#     f.write(html)\n"
   ]
  },
  {
   "cell_type": "code",
   "execution_count": 152,
   "id": "1eb95a63",
   "metadata": {},
   "outputs": [
    {
     "data": {
      "text/html": [
       "<span class=\"tex2jax_ignore\"><div class=\"entities\" style=\"line-height: 2.5; direction: ltr\">The \n",
       "<mark class=\"entity\" style=\"background: #ff9561; padding: 0.45em 0.6em; margin: 0 0.25em; line-height: 1; border-radius: 0.35em;\">\n",
       "    Avadh\n",
       "    <span style=\"font-size: 0.8em; font-weight: bold; line-height: 1; border-radius: 0.35em; vertical-align: middle; margin-left: 0.5rem\">LOC</span>\n",
       "</mark>\n",
       " crossing in the state capital that connects expressway and highway with city is also likely to be the pit stop for the ‘Bullet Train’ planned to start cruising on the Delhi-Varanasi High Speed Rail Corridor (\n",
       "<mark class=\"entity\" style=\"background: #7aecec; padding: 0.45em 0.6em; margin: 0 0.25em; line-height: 1; border-radius: 0.35em;\">\n",
       "    DVHSR\n",
       "    <span style=\"font-size: 0.8em; font-weight: bold; line-height: 1; border-radius: 0.35em; vertical-align: middle; margin-left: 0.5rem\">ORG</span>\n",
       "</mark>\n",
       ") by \n",
       "<mark class=\"entity\" style=\"background: #bfe1d9; padding: 0.45em 0.6em; margin: 0 0.25em; line-height: 1; border-radius: 0.35em;\">\n",
       "    2029\n",
       "    <span style=\"font-size: 0.8em; font-weight: bold; line-height: 1; border-radius: 0.35em; vertical-align: middle; margin-left: 0.5rem\">DATE</span>\n",
       "</mark>\n",
       ".</div></span>"
      ],
      "text/plain": [
       "<IPython.core.display.HTML object>"
      ]
     },
     "metadata": {},
     "output_type": "display_data"
    }
   ],
   "source": [
    "#another sentence from doc : list(doc.sents)[1]\n",
    "\n",
    "docVirtu= displacy.render(list(doc.sents)[1], style=\"ent\")"
   ]
  },
  {
   "cell_type": "code",
   "execution_count": 154,
   "id": "d428fb4d",
   "metadata": {},
   "outputs": [
    {
     "data": {
      "text/html": [
       "<span class=\"tex2jax_ignore\"><svg xmlns=\"http://www.w3.org/2000/svg\" xmlns:xlink=\"http://www.w3.org/1999/xlink\" xml:lang=\"en\" id=\"556decf60f9b48cb9c141f2cfed7c008-0\" class=\"displacy\" width=\"4950\" height=\"1012.0\" direction=\"ltr\" style=\"max-width: none; height: 1012.0px; color: #000000; background: #ffffff; font-family: Arial; direction: ltr\">\n",
       "<text class=\"displacy-token\" fill=\"currentColor\" text-anchor=\"middle\" y=\"922.0\">\n",
       "    <tspan class=\"displacy-word\" fill=\"currentColor\" x=\"50\">Delhi-</tspan>\n",
       "    <tspan class=\"displacy-tag\" dy=\"2em\" fill=\"currentColor\" x=\"50\">PROPN</tspan>\n",
       "</text>\n",
       "\n",
       "<text class=\"displacy-token\" fill=\"currentColor\" text-anchor=\"middle\" y=\"922.0\">\n",
       "    <tspan class=\"displacy-word\" fill=\"currentColor\" x=\"225\">Varanasi</tspan>\n",
       "    <tspan class=\"displacy-tag\" dy=\"2em\" fill=\"currentColor\" x=\"225\">PROPN</tspan>\n",
       "</text>\n",
       "\n",
       "<text class=\"displacy-token\" fill=\"currentColor\" text-anchor=\"middle\" y=\"922.0\">\n",
       "    <tspan class=\"displacy-word\" fill=\"currentColor\" x=\"400\">High</tspan>\n",
       "    <tspan class=\"displacy-tag\" dy=\"2em\" fill=\"currentColor\" x=\"400\">PROPN</tspan>\n",
       "</text>\n",
       "\n",
       "<text class=\"displacy-token\" fill=\"currentColor\" text-anchor=\"middle\" y=\"922.0\">\n",
       "    <tspan class=\"displacy-word\" fill=\"currentColor\" x=\"575\">Speed</tspan>\n",
       "    <tspan class=\"displacy-tag\" dy=\"2em\" fill=\"currentColor\" x=\"575\">PROPN</tspan>\n",
       "</text>\n",
       "\n",
       "<text class=\"displacy-token\" fill=\"currentColor\" text-anchor=\"middle\" y=\"922.0\">\n",
       "    <tspan class=\"displacy-word\" fill=\"currentColor\" x=\"750\">Rail</tspan>\n",
       "    <tspan class=\"displacy-tag\" dy=\"2em\" fill=\"currentColor\" x=\"750\">PROPN</tspan>\n",
       "</text>\n",
       "\n",
       "<text class=\"displacy-token\" fill=\"currentColor\" text-anchor=\"middle\" y=\"922.0\">\n",
       "    <tspan class=\"displacy-word\" fill=\"currentColor\" x=\"925\">Corridor:</tspan>\n",
       "    <tspan class=\"displacy-tag\" dy=\"2em\" fill=\"currentColor\" x=\"925\">PROPN</tspan>\n",
       "</text>\n",
       "\n",
       "<text class=\"displacy-token\" fill=\"currentColor\" text-anchor=\"middle\" y=\"922.0\">\n",
       "    <tspan class=\"displacy-word\" fill=\"currentColor\" x=\"1100\">Board</tspan>\n",
       "    <tspan class=\"displacy-tag\" dy=\"2em\" fill=\"currentColor\" x=\"1100\">NOUN</tspan>\n",
       "</text>\n",
       "\n",
       "<text class=\"displacy-token\" fill=\"currentColor\" text-anchor=\"middle\" y=\"922.0\">\n",
       "    <tspan class=\"displacy-word\" fill=\"currentColor\" x=\"1275\">bullet</tspan>\n",
       "    <tspan class=\"displacy-tag\" dy=\"2em\" fill=\"currentColor\" x=\"1275\">NOUN</tspan>\n",
       "</text>\n",
       "\n",
       "<text class=\"displacy-token\" fill=\"currentColor\" text-anchor=\"middle\" y=\"922.0\">\n",
       "    <tspan class=\"displacy-word\" fill=\"currentColor\" x=\"1450\">train</tspan>\n",
       "    <tspan class=\"displacy-tag\" dy=\"2em\" fill=\"currentColor\" x=\"1450\">NOUN</tspan>\n",
       "</text>\n",
       "\n",
       "<text class=\"displacy-token\" fill=\"currentColor\" text-anchor=\"middle\" y=\"922.0\">\n",
       "    <tspan class=\"displacy-word\" fill=\"currentColor\" x=\"1625\"> ..</tspan>\n",
       "    <tspan class=\"displacy-tag\" dy=\"2em\" fill=\"currentColor\" x=\"1625\">SPACE</tspan>\n",
       "</text>\n",
       "\n",
       "<text class=\"displacy-token\" fill=\"currentColor\" text-anchor=\"middle\" y=\"922.0\">\n",
       "    <tspan class=\"displacy-word\" fill=\"currentColor\" x=\"1800\">\n",
       "\n",
       "</tspan>\n",
       "    <tspan class=\"displacy-tag\" dy=\"2em\" fill=\"currentColor\" x=\"1800\">SPACE</tspan>\n",
       "</text>\n",
       "\n",
       "<text class=\"displacy-token\" fill=\"currentColor\" text-anchor=\"middle\" y=\"922.0\">\n",
       "    <tspan class=\"displacy-word\" fill=\"currentColor\" x=\"1975\">Read</tspan>\n",
       "    <tspan class=\"displacy-tag\" dy=\"2em\" fill=\"currentColor\" x=\"1975\">VERB</tspan>\n",
       "</text>\n",
       "\n",
       "<text class=\"displacy-token\" fill=\"currentColor\" text-anchor=\"middle\" y=\"922.0\">\n",
       "    <tspan class=\"displacy-word\" fill=\"currentColor\" x=\"2150\">more</tspan>\n",
       "    <tspan class=\"displacy-tag\" dy=\"2em\" fill=\"currentColor\" x=\"2150\">ADJ</tspan>\n",
       "</text>\n",
       "\n",
       "<text class=\"displacy-token\" fill=\"currentColor\" text-anchor=\"middle\" y=\"922.0\">\n",
       "    <tspan class=\"displacy-word\" fill=\"currentColor\" x=\"2325\">at:</tspan>\n",
       "    <tspan class=\"displacy-tag\" dy=\"2em\" fill=\"currentColor\" x=\"2325\">ADP</tspan>\n",
       "</text>\n",
       "\n",
       "<text class=\"displacy-token\" fill=\"currentColor\" text-anchor=\"middle\" y=\"922.0\">\n",
       "    <tspan class=\"displacy-word\" fill=\"currentColor\" x=\"2500\">\n",
       "</tspan>\n",
       "    <tspan class=\"displacy-tag\" dy=\"2em\" fill=\"currentColor\" x=\"2500\">SPACE</tspan>\n",
       "</text>\n",
       "\n",
       "<text class=\"displacy-token\" fill=\"currentColor\" text-anchor=\"middle\" y=\"922.0\">\n",
       "    <tspan class=\"displacy-word\" fill=\"currentColor\" x=\"2675\">http://timesofindia.indiatimes.com/articleshow/90407878.cms?utm_source=contentofinterest&amp;utm_medium=text&amp;utm_campaign=cppst</tspan>\n",
       "    <tspan class=\"displacy-tag\" dy=\"2em\" fill=\"currentColor\" x=\"2675\">NOUN</tspan>\n",
       "</text>\n",
       "\n",
       "<text class=\"displacy-token\" fill=\"currentColor\" text-anchor=\"middle\" y=\"922.0\">\n",
       "    <tspan class=\"displacy-word\" fill=\"currentColor\" x=\"2850\">\n",
       "</tspan>\n",
       "    <tspan class=\"displacy-tag\" dy=\"2em\" fill=\"currentColor\" x=\"2850\">SPACE</tspan>\n",
       "</text>\n",
       "\n",
       "<text class=\"displacy-token\" fill=\"currentColor\" text-anchor=\"middle\" y=\"922.0\">\n",
       "    <tspan class=\"displacy-word\" fill=\"currentColor\" x=\"3025\">Arvind</tspan>\n",
       "    <tspan class=\"displacy-tag\" dy=\"2em\" fill=\"currentColor\" x=\"3025\">PROPN</tspan>\n",
       "</text>\n",
       "\n",
       "<text class=\"displacy-token\" fill=\"currentColor\" text-anchor=\"middle\" y=\"922.0\">\n",
       "    <tspan class=\"displacy-word\" fill=\"currentColor\" x=\"3200\">Chauhan /</tspan>\n",
       "    <tspan class=\"displacy-tag\" dy=\"2em\" fill=\"currentColor\" x=\"3200\">PROPN</tspan>\n",
       "</text>\n",
       "\n",
       "<text class=\"displacy-token\" fill=\"currentColor\" text-anchor=\"middle\" y=\"922.0\">\n",
       "    <tspan class=\"displacy-word\" fill=\"currentColor\" x=\"3375\">TNN /</tspan>\n",
       "    <tspan class=\"displacy-tag\" dy=\"2em\" fill=\"currentColor\" x=\"3375\">PROPN</tspan>\n",
       "</text>\n",
       "\n",
       "<text class=\"displacy-token\" fill=\"currentColor\" text-anchor=\"middle\" y=\"922.0\">\n",
       "    <tspan class=\"displacy-word\" fill=\"currentColor\" x=\"3550\">Updated:</tspan>\n",
       "    <tspan class=\"displacy-tag\" dy=\"2em\" fill=\"currentColor\" x=\"3550\">VERB</tspan>\n",
       "</text>\n",
       "\n",
       "<text class=\"displacy-token\" fill=\"currentColor\" text-anchor=\"middle\" y=\"922.0\">\n",
       "    <tspan class=\"displacy-word\" fill=\"currentColor\" x=\"3725\">Mar</tspan>\n",
       "    <tspan class=\"displacy-tag\" dy=\"2em\" fill=\"currentColor\" x=\"3725\">PROPN</tspan>\n",
       "</text>\n",
       "\n",
       "<text class=\"displacy-token\" fill=\"currentColor\" text-anchor=\"middle\" y=\"922.0\">\n",
       "    <tspan class=\"displacy-word\" fill=\"currentColor\" x=\"3900\">24,</tspan>\n",
       "    <tspan class=\"displacy-tag\" dy=\"2em\" fill=\"currentColor\" x=\"3900\">NUM</tspan>\n",
       "</text>\n",
       "\n",
       "<text class=\"displacy-token\" fill=\"currentColor\" text-anchor=\"middle\" y=\"922.0\">\n",
       "    <tspan class=\"displacy-word\" fill=\"currentColor\" x=\"4075\">2022,</tspan>\n",
       "    <tspan class=\"displacy-tag\" dy=\"2em\" fill=\"currentColor\" x=\"4075\">NUM</tspan>\n",
       "</text>\n",
       "\n",
       "<text class=\"displacy-token\" fill=\"currentColor\" text-anchor=\"middle\" y=\"922.0\">\n",
       "    <tspan class=\"displacy-word\" fill=\"currentColor\" x=\"4250\">14:04</tspan>\n",
       "    <tspan class=\"displacy-tag\" dy=\"2em\" fill=\"currentColor\" x=\"4250\">NUM</tspan>\n",
       "</text>\n",
       "\n",
       "<text class=\"displacy-token\" fill=\"currentColor\" text-anchor=\"middle\" y=\"922.0\">\n",
       "    <tspan class=\"displacy-word\" fill=\"currentColor\" x=\"4425\">IS ..</tspan>\n",
       "    <tspan class=\"displacy-tag\" dy=\"2em\" fill=\"currentColor\" x=\"4425\">AUX</tspan>\n",
       "</text>\n",
       "\n",
       "<text class=\"displacy-token\" fill=\"currentColor\" text-anchor=\"middle\" y=\"922.0\">\n",
       "    <tspan class=\"displacy-word\" fill=\"currentColor\" x=\"4600\">\n",
       "\n",
       "</tspan>\n",
       "    <tspan class=\"displacy-tag\" dy=\"2em\" fill=\"currentColor\" x=\"4600\">SPACE</tspan>\n",
       "</text>\n",
       "\n",
       "<text class=\"displacy-token\" fill=\"currentColor\" text-anchor=\"middle\" y=\"922.0\">\n",
       "    <tspan class=\"displacy-word\" fill=\"currentColor\" x=\"4775\">LUCKNOW:</tspan>\n",
       "    <tspan class=\"displacy-tag\" dy=\"2em\" fill=\"currentColor\" x=\"4775\">VERB</tspan>\n",
       "</text>\n",
       "\n",
       "<g class=\"displacy-arrow\">\n",
       "    <path class=\"displacy-arc\" id=\"arrow-556decf60f9b48cb9c141f2cfed7c008-0-0\" stroke-width=\"2px\" d=\"M70,877.0 C70,789.5 180.0,789.5 180.0,877.0\" fill=\"none\" stroke=\"currentColor\"/>\n",
       "    <text dy=\"1.25em\" style=\"font-size: 0.8em; letter-spacing: 1px\">\n",
       "        <textPath xlink:href=\"#arrow-556decf60f9b48cb9c141f2cfed7c008-0-0\" class=\"displacy-label\" startOffset=\"50%\" side=\"left\" fill=\"currentColor\" text-anchor=\"middle\">compound</textPath>\n",
       "    </text>\n",
       "    <path class=\"displacy-arrowhead\" d=\"M70,879.0 L62,867.0 78,867.0\" fill=\"currentColor\"/>\n",
       "</g>\n",
       "\n",
       "<g class=\"displacy-arrow\">\n",
       "    <path class=\"displacy-arc\" id=\"arrow-556decf60f9b48cb9c141f2cfed7c008-0-1\" stroke-width=\"2px\" d=\"M245,877.0 C245,527.0 895.0,527.0 895.0,877.0\" fill=\"none\" stroke=\"currentColor\"/>\n",
       "    <text dy=\"1.25em\" style=\"font-size: 0.8em; letter-spacing: 1px\">\n",
       "        <textPath xlink:href=\"#arrow-556decf60f9b48cb9c141f2cfed7c008-0-1\" class=\"displacy-label\" startOffset=\"50%\" side=\"left\" fill=\"currentColor\" text-anchor=\"middle\">compound</textPath>\n",
       "    </text>\n",
       "    <path class=\"displacy-arrowhead\" d=\"M245,879.0 L237,867.0 253,867.0\" fill=\"currentColor\"/>\n",
       "</g>\n",
       "\n",
       "<g class=\"displacy-arrow\">\n",
       "    <path class=\"displacy-arc\" id=\"arrow-556decf60f9b48cb9c141f2cfed7c008-0-2\" stroke-width=\"2px\" d=\"M420,877.0 C420,789.5 530.0,789.5 530.0,877.0\" fill=\"none\" stroke=\"currentColor\"/>\n",
       "    <text dy=\"1.25em\" style=\"font-size: 0.8em; letter-spacing: 1px\">\n",
       "        <textPath xlink:href=\"#arrow-556decf60f9b48cb9c141f2cfed7c008-0-2\" class=\"displacy-label\" startOffset=\"50%\" side=\"left\" fill=\"currentColor\" text-anchor=\"middle\">compound</textPath>\n",
       "    </text>\n",
       "    <path class=\"displacy-arrowhead\" d=\"M420,879.0 L412,867.0 428,867.0\" fill=\"currentColor\"/>\n",
       "</g>\n",
       "\n",
       "<g class=\"displacy-arrow\">\n",
       "    <path class=\"displacy-arc\" id=\"arrow-556decf60f9b48cb9c141f2cfed7c008-0-3\" stroke-width=\"2px\" d=\"M595,877.0 C595,789.5 705.0,789.5 705.0,877.0\" fill=\"none\" stroke=\"currentColor\"/>\n",
       "    <text dy=\"1.25em\" style=\"font-size: 0.8em; letter-spacing: 1px\">\n",
       "        <textPath xlink:href=\"#arrow-556decf60f9b48cb9c141f2cfed7c008-0-3\" class=\"displacy-label\" startOffset=\"50%\" side=\"left\" fill=\"currentColor\" text-anchor=\"middle\">compound</textPath>\n",
       "    </text>\n",
       "    <path class=\"displacy-arrowhead\" d=\"M595,879.0 L587,867.0 603,867.0\" fill=\"currentColor\"/>\n",
       "</g>\n",
       "\n",
       "<g class=\"displacy-arrow\">\n",
       "    <path class=\"displacy-arc\" id=\"arrow-556decf60f9b48cb9c141f2cfed7c008-0-4\" stroke-width=\"2px\" d=\"M770,877.0 C770,789.5 880.0,789.5 880.0,877.0\" fill=\"none\" stroke=\"currentColor\"/>\n",
       "    <text dy=\"1.25em\" style=\"font-size: 0.8em; letter-spacing: 1px\">\n",
       "        <textPath xlink:href=\"#arrow-556decf60f9b48cb9c141f2cfed7c008-0-4\" class=\"displacy-label\" startOffset=\"50%\" side=\"left\" fill=\"currentColor\" text-anchor=\"middle\">compound</textPath>\n",
       "    </text>\n",
       "    <path class=\"displacy-arrowhead\" d=\"M770,879.0 L762,867.0 778,867.0\" fill=\"currentColor\"/>\n",
       "</g>\n",
       "\n",
       "<g class=\"displacy-arrow\">\n",
       "    <path class=\"displacy-arc\" id=\"arrow-556decf60f9b48cb9c141f2cfed7c008-0-5\" stroke-width=\"2px\" d=\"M1120,877.0 C1120,702.0 1410.0,702.0 1410.0,877.0\" fill=\"none\" stroke=\"currentColor\"/>\n",
       "    <text dy=\"1.25em\" style=\"font-size: 0.8em; letter-spacing: 1px\">\n",
       "        <textPath xlink:href=\"#arrow-556decf60f9b48cb9c141f2cfed7c008-0-5\" class=\"displacy-label\" startOffset=\"50%\" side=\"left\" fill=\"currentColor\" text-anchor=\"middle\">compound</textPath>\n",
       "    </text>\n",
       "    <path class=\"displacy-arrowhead\" d=\"M1120,879.0 L1112,867.0 1128,867.0\" fill=\"currentColor\"/>\n",
       "</g>\n",
       "\n",
       "<g class=\"displacy-arrow\">\n",
       "    <path class=\"displacy-arc\" id=\"arrow-556decf60f9b48cb9c141f2cfed7c008-0-6\" stroke-width=\"2px\" d=\"M1295,877.0 C1295,789.5 1405.0,789.5 1405.0,877.0\" fill=\"none\" stroke=\"currentColor\"/>\n",
       "    <text dy=\"1.25em\" style=\"font-size: 0.8em; letter-spacing: 1px\">\n",
       "        <textPath xlink:href=\"#arrow-556decf60f9b48cb9c141f2cfed7c008-0-6\" class=\"displacy-label\" startOffset=\"50%\" side=\"left\" fill=\"currentColor\" text-anchor=\"middle\">compound</textPath>\n",
       "    </text>\n",
       "    <path class=\"displacy-arrowhead\" d=\"M1295,879.0 L1287,867.0 1303,867.0\" fill=\"currentColor\"/>\n",
       "</g>\n",
       "\n",
       "<g class=\"displacy-arrow\">\n",
       "    <path class=\"displacy-arc\" id=\"arrow-556decf60f9b48cb9c141f2cfed7c008-0-7\" stroke-width=\"2px\" d=\"M1470,877.0 C1470,789.5 1580.0,789.5 1580.0,877.0\" fill=\"none\" stroke=\"currentColor\"/>\n",
       "    <text dy=\"1.25em\" style=\"font-size: 0.8em; letter-spacing: 1px\">\n",
       "        <textPath xlink:href=\"#arrow-556decf60f9b48cb9c141f2cfed7c008-0-7\" class=\"displacy-label\" startOffset=\"50%\" side=\"left\" fill=\"currentColor\" text-anchor=\"middle\">compound</textPath>\n",
       "    </text>\n",
       "    <path class=\"displacy-arrowhead\" d=\"M1470,879.0 L1462,867.0 1478,867.0\" fill=\"currentColor\"/>\n",
       "</g>\n",
       "\n",
       "<g class=\"displacy-arrow\">\n",
       "    <path class=\"displacy-arc\" id=\"arrow-556decf60f9b48cb9c141f2cfed7c008-0-8\" stroke-width=\"2px\" d=\"M945,877.0 C945,527.0 1595.0,527.0 1595.0,877.0\" fill=\"none\" stroke=\"currentColor\"/>\n",
       "    <text dy=\"1.25em\" style=\"font-size: 0.8em; letter-spacing: 1px\">\n",
       "        <textPath xlink:href=\"#arrow-556decf60f9b48cb9c141f2cfed7c008-0-8\" class=\"displacy-label\" startOffset=\"50%\" side=\"left\" fill=\"currentColor\" text-anchor=\"middle\">dep</textPath>\n",
       "    </text>\n",
       "    <path class=\"displacy-arrowhead\" d=\"M1595.0,879.0 L1603.0,867.0 1587.0,867.0\" fill=\"currentColor\"/>\n",
       "</g>\n",
       "\n",
       "<g class=\"displacy-arrow\">\n",
       "    <path class=\"displacy-arc\" id=\"arrow-556decf60f9b48cb9c141f2cfed7c008-0-9\" stroke-width=\"2px\" d=\"M1820,877.0 C1820,789.5 1930.0,789.5 1930.0,877.0\" fill=\"none\" stroke=\"currentColor\"/>\n",
       "    <text dy=\"1.25em\" style=\"font-size: 0.8em; letter-spacing: 1px\">\n",
       "        <textPath xlink:href=\"#arrow-556decf60f9b48cb9c141f2cfed7c008-0-9\" class=\"displacy-label\" startOffset=\"50%\" side=\"left\" fill=\"currentColor\" text-anchor=\"middle\">dep</textPath>\n",
       "    </text>\n",
       "    <path class=\"displacy-arrowhead\" d=\"M1820,879.0 L1812,867.0 1828,867.0\" fill=\"currentColor\"/>\n",
       "</g>\n",
       "\n",
       "<g class=\"displacy-arrow\">\n",
       "    <path class=\"displacy-arc\" id=\"arrow-556decf60f9b48cb9c141f2cfed7c008-0-10\" stroke-width=\"2px\" d=\"M945,877.0 C945,352.0 1955.0,352.0 1955.0,877.0\" fill=\"none\" stroke=\"currentColor\"/>\n",
       "    <text dy=\"1.25em\" style=\"font-size: 0.8em; letter-spacing: 1px\">\n",
       "        <textPath xlink:href=\"#arrow-556decf60f9b48cb9c141f2cfed7c008-0-10\" class=\"displacy-label\" startOffset=\"50%\" side=\"left\" fill=\"currentColor\" text-anchor=\"middle\">acl</textPath>\n",
       "    </text>\n",
       "    <path class=\"displacy-arrowhead\" d=\"M1955.0,879.0 L1963.0,867.0 1947.0,867.0\" fill=\"currentColor\"/>\n",
       "</g>\n",
       "\n",
       "<g class=\"displacy-arrow\">\n",
       "    <path class=\"displacy-arc\" id=\"arrow-556decf60f9b48cb9c141f2cfed7c008-0-11\" stroke-width=\"2px\" d=\"M1995,877.0 C1995,789.5 2105.0,789.5 2105.0,877.0\" fill=\"none\" stroke=\"currentColor\"/>\n",
       "    <text dy=\"1.25em\" style=\"font-size: 0.8em; letter-spacing: 1px\">\n",
       "        <textPath xlink:href=\"#arrow-556decf60f9b48cb9c141f2cfed7c008-0-11\" class=\"displacy-label\" startOffset=\"50%\" side=\"left\" fill=\"currentColor\" text-anchor=\"middle\">dobj</textPath>\n",
       "    </text>\n",
       "    <path class=\"displacy-arrowhead\" d=\"M2105.0,879.0 L2113.0,867.0 2097.0,867.0\" fill=\"currentColor\"/>\n",
       "</g>\n",
       "\n",
       "<g class=\"displacy-arrow\">\n",
       "    <path class=\"displacy-arc\" id=\"arrow-556decf60f9b48cb9c141f2cfed7c008-0-12\" stroke-width=\"2px\" d=\"M1995,877.0 C1995,702.0 2285.0,702.0 2285.0,877.0\" fill=\"none\" stroke=\"currentColor\"/>\n",
       "    <text dy=\"1.25em\" style=\"font-size: 0.8em; letter-spacing: 1px\">\n",
       "        <textPath xlink:href=\"#arrow-556decf60f9b48cb9c141f2cfed7c008-0-12\" class=\"displacy-label\" startOffset=\"50%\" side=\"left\" fill=\"currentColor\" text-anchor=\"middle\">prep</textPath>\n",
       "    </text>\n",
       "    <path class=\"displacy-arrowhead\" d=\"M2285.0,879.0 L2293.0,867.0 2277.0,867.0\" fill=\"currentColor\"/>\n",
       "</g>\n",
       "\n",
       "<g class=\"displacy-arrow\">\n",
       "    <path class=\"displacy-arc\" id=\"arrow-556decf60f9b48cb9c141f2cfed7c008-0-13\" stroke-width=\"2px\" d=\"M2520,877.0 C2520,352.0 3530.0,352.0 3530.0,877.0\" fill=\"none\" stroke=\"currentColor\"/>\n",
       "    <text dy=\"1.25em\" style=\"font-size: 0.8em; letter-spacing: 1px\">\n",
       "        <textPath xlink:href=\"#arrow-556decf60f9b48cb9c141f2cfed7c008-0-13\" class=\"displacy-label\" startOffset=\"50%\" side=\"left\" fill=\"currentColor\" text-anchor=\"middle\">dep</textPath>\n",
       "    </text>\n",
       "    <path class=\"displacy-arrowhead\" d=\"M2520,879.0 L2512,867.0 2528,867.0\" fill=\"currentColor\"/>\n",
       "</g>\n",
       "\n",
       "<g class=\"displacy-arrow\">\n",
       "    <path class=\"displacy-arc\" id=\"arrow-556decf60f9b48cb9c141f2cfed7c008-0-14\" stroke-width=\"2px\" d=\"M2695,877.0 C2695,439.5 3525.0,439.5 3525.0,877.0\" fill=\"none\" stroke=\"currentColor\"/>\n",
       "    <text dy=\"1.25em\" style=\"font-size: 0.8em; letter-spacing: 1px\">\n",
       "        <textPath xlink:href=\"#arrow-556decf60f9b48cb9c141f2cfed7c008-0-14\" class=\"displacy-label\" startOffset=\"50%\" side=\"left\" fill=\"currentColor\" text-anchor=\"middle\">npadvmod</textPath>\n",
       "    </text>\n",
       "    <path class=\"displacy-arrowhead\" d=\"M2695,879.0 L2687,867.0 2703,867.0\" fill=\"currentColor\"/>\n",
       "</g>\n",
       "\n",
       "<g class=\"displacy-arrow\">\n",
       "    <path class=\"displacy-arc\" id=\"arrow-556decf60f9b48cb9c141f2cfed7c008-0-15\" stroke-width=\"2px\" d=\"M2695,877.0 C2695,789.5 2805.0,789.5 2805.0,877.0\" fill=\"none\" stroke=\"currentColor\"/>\n",
       "    <text dy=\"1.25em\" style=\"font-size: 0.8em; letter-spacing: 1px\">\n",
       "        <textPath xlink:href=\"#arrow-556decf60f9b48cb9c141f2cfed7c008-0-15\" class=\"displacy-label\" startOffset=\"50%\" side=\"left\" fill=\"currentColor\" text-anchor=\"middle\">dep</textPath>\n",
       "    </text>\n",
       "    <path class=\"displacy-arrowhead\" d=\"M2805.0,879.0 L2813.0,867.0 2797.0,867.0\" fill=\"currentColor\"/>\n",
       "</g>\n",
       "\n",
       "<g class=\"displacy-arrow\">\n",
       "    <path class=\"displacy-arc\" id=\"arrow-556decf60f9b48cb9c141f2cfed7c008-0-16\" stroke-width=\"2px\" d=\"M3045,877.0 C3045,614.5 3515.0,614.5 3515.0,877.0\" fill=\"none\" stroke=\"currentColor\"/>\n",
       "    <text dy=\"1.25em\" style=\"font-size: 0.8em; letter-spacing: 1px\">\n",
       "        <textPath xlink:href=\"#arrow-556decf60f9b48cb9c141f2cfed7c008-0-16\" class=\"displacy-label\" startOffset=\"50%\" side=\"left\" fill=\"currentColor\" text-anchor=\"middle\">nmod</textPath>\n",
       "    </text>\n",
       "    <path class=\"displacy-arrowhead\" d=\"M3045,879.0 L3037,867.0 3053,867.0\" fill=\"currentColor\"/>\n",
       "</g>\n",
       "\n",
       "<g class=\"displacy-arrow\">\n",
       "    <path class=\"displacy-arc\" id=\"arrow-556decf60f9b48cb9c141f2cfed7c008-0-17\" stroke-width=\"2px\" d=\"M3220,877.0 C3220,789.5 3330.0,789.5 3330.0,877.0\" fill=\"none\" stroke=\"currentColor\"/>\n",
       "    <text dy=\"1.25em\" style=\"font-size: 0.8em; letter-spacing: 1px\">\n",
       "        <textPath xlink:href=\"#arrow-556decf60f9b48cb9c141f2cfed7c008-0-17\" class=\"displacy-label\" startOffset=\"50%\" side=\"left\" fill=\"currentColor\" text-anchor=\"middle\">nmod</textPath>\n",
       "    </text>\n",
       "    <path class=\"displacy-arrowhead\" d=\"M3220,879.0 L3212,867.0 3228,867.0\" fill=\"currentColor\"/>\n",
       "</g>\n",
       "\n",
       "<g class=\"displacy-arrow\">\n",
       "    <path class=\"displacy-arc\" id=\"arrow-556decf60f9b48cb9c141f2cfed7c008-0-18\" stroke-width=\"2px\" d=\"M3395,877.0 C3395,789.5 3505.0,789.5 3505.0,877.0\" fill=\"none\" stroke=\"currentColor\"/>\n",
       "    <text dy=\"1.25em\" style=\"font-size: 0.8em; letter-spacing: 1px\">\n",
       "        <textPath xlink:href=\"#arrow-556decf60f9b48cb9c141f2cfed7c008-0-18\" class=\"displacy-label\" startOffset=\"50%\" side=\"left\" fill=\"currentColor\" text-anchor=\"middle\">dep</textPath>\n",
       "    </text>\n",
       "    <path class=\"displacy-arrowhead\" d=\"M3395,879.0 L3387,867.0 3403,867.0\" fill=\"currentColor\"/>\n",
       "</g>\n",
       "\n",
       "<g class=\"displacy-arrow\">\n",
       "    <path class=\"displacy-arc\" id=\"arrow-556decf60f9b48cb9c141f2cfed7c008-0-19\" stroke-width=\"2px\" d=\"M945,877.0 C945,264.5 3535.0,264.5 3535.0,877.0\" fill=\"none\" stroke=\"currentColor\"/>\n",
       "    <text dy=\"1.25em\" style=\"font-size: 0.8em; letter-spacing: 1px\">\n",
       "        <textPath xlink:href=\"#arrow-556decf60f9b48cb9c141f2cfed7c008-0-19\" class=\"displacy-label\" startOffset=\"50%\" side=\"left\" fill=\"currentColor\" text-anchor=\"middle\">acl</textPath>\n",
       "    </text>\n",
       "    <path class=\"displacy-arrowhead\" d=\"M3535.0,879.0 L3543.0,867.0 3527.0,867.0\" fill=\"currentColor\"/>\n",
       "</g>\n",
       "\n",
       "<g class=\"displacy-arrow\">\n",
       "    <path class=\"displacy-arc\" id=\"arrow-556decf60f9b48cb9c141f2cfed7c008-0-20\" stroke-width=\"2px\" d=\"M3570,877.0 C3570,789.5 3680.0,789.5 3680.0,877.0\" fill=\"none\" stroke=\"currentColor\"/>\n",
       "    <text dy=\"1.25em\" style=\"font-size: 0.8em; letter-spacing: 1px\">\n",
       "        <textPath xlink:href=\"#arrow-556decf60f9b48cb9c141f2cfed7c008-0-20\" class=\"displacy-label\" startOffset=\"50%\" side=\"left\" fill=\"currentColor\" text-anchor=\"middle\">npadvmod</textPath>\n",
       "    </text>\n",
       "    <path class=\"displacy-arrowhead\" d=\"M3680.0,879.0 L3688.0,867.0 3672.0,867.0\" fill=\"currentColor\"/>\n",
       "</g>\n",
       "\n",
       "<g class=\"displacy-arrow\">\n",
       "    <path class=\"displacy-arc\" id=\"arrow-556decf60f9b48cb9c141f2cfed7c008-0-21\" stroke-width=\"2px\" d=\"M3745,877.0 C3745,789.5 3855.0,789.5 3855.0,877.0\" fill=\"none\" stroke=\"currentColor\"/>\n",
       "    <text dy=\"1.25em\" style=\"font-size: 0.8em; letter-spacing: 1px\">\n",
       "        <textPath xlink:href=\"#arrow-556decf60f9b48cb9c141f2cfed7c008-0-21\" class=\"displacy-label\" startOffset=\"50%\" side=\"left\" fill=\"currentColor\" text-anchor=\"middle\">nummod</textPath>\n",
       "    </text>\n",
       "    <path class=\"displacy-arrowhead\" d=\"M3855.0,879.0 L3863.0,867.0 3847.0,867.0\" fill=\"currentColor\"/>\n",
       "</g>\n",
       "\n",
       "<g class=\"displacy-arrow\">\n",
       "    <path class=\"displacy-arc\" id=\"arrow-556decf60f9b48cb9c141f2cfed7c008-0-22\" stroke-width=\"2px\" d=\"M3745,877.0 C3745,702.0 4035.0,702.0 4035.0,877.0\" fill=\"none\" stroke=\"currentColor\"/>\n",
       "    <text dy=\"1.25em\" style=\"font-size: 0.8em; letter-spacing: 1px\">\n",
       "        <textPath xlink:href=\"#arrow-556decf60f9b48cb9c141f2cfed7c008-0-22\" class=\"displacy-label\" startOffset=\"50%\" side=\"left\" fill=\"currentColor\" text-anchor=\"middle\">nummod</textPath>\n",
       "    </text>\n",
       "    <path class=\"displacy-arrowhead\" d=\"M4035.0,879.0 L4043.0,867.0 4027.0,867.0\" fill=\"currentColor\"/>\n",
       "</g>\n",
       "\n",
       "<g class=\"displacy-arrow\">\n",
       "    <path class=\"displacy-arc\" id=\"arrow-556decf60f9b48cb9c141f2cfed7c008-0-23\" stroke-width=\"2px\" d=\"M4270,877.0 C4270,789.5 4380.0,789.5 4380.0,877.0\" fill=\"none\" stroke=\"currentColor\"/>\n",
       "    <text dy=\"1.25em\" style=\"font-size: 0.8em; letter-spacing: 1px\">\n",
       "        <textPath xlink:href=\"#arrow-556decf60f9b48cb9c141f2cfed7c008-0-23\" class=\"displacy-label\" startOffset=\"50%\" side=\"left\" fill=\"currentColor\" text-anchor=\"middle\">nummod</textPath>\n",
       "    </text>\n",
       "    <path class=\"displacy-arrowhead\" d=\"M4270,879.0 L4262,867.0 4278,867.0\" fill=\"currentColor\"/>\n",
       "</g>\n",
       "\n",
       "<g class=\"displacy-arrow\">\n",
       "    <path class=\"displacy-arc\" id=\"arrow-556decf60f9b48cb9c141f2cfed7c008-0-24\" stroke-width=\"2px\" d=\"M945,877.0 C945,177.0 4415.0,177.0 4415.0,877.0\" fill=\"none\" stroke=\"currentColor\"/>\n",
       "    <text dy=\"1.25em\" style=\"font-size: 0.8em; letter-spacing: 1px\">\n",
       "        <textPath xlink:href=\"#arrow-556decf60f9b48cb9c141f2cfed7c008-0-24\" class=\"displacy-label\" startOffset=\"50%\" side=\"left\" fill=\"currentColor\" text-anchor=\"middle\">appos</textPath>\n",
       "    </text>\n",
       "    <path class=\"displacy-arrowhead\" d=\"M4415.0,879.0 L4423.0,867.0 4407.0,867.0\" fill=\"currentColor\"/>\n",
       "</g>\n",
       "\n",
       "<g class=\"displacy-arrow\">\n",
       "    <path class=\"displacy-arc\" id=\"arrow-556decf60f9b48cb9c141f2cfed7c008-0-25\" stroke-width=\"2px\" d=\"M945,877.0 C945,89.5 4595.0,89.5 4595.0,877.0\" fill=\"none\" stroke=\"currentColor\"/>\n",
       "    <text dy=\"1.25em\" style=\"font-size: 0.8em; letter-spacing: 1px\">\n",
       "        <textPath xlink:href=\"#arrow-556decf60f9b48cb9c141f2cfed7c008-0-25\" class=\"displacy-label\" startOffset=\"50%\" side=\"left\" fill=\"currentColor\" text-anchor=\"middle\">dep</textPath>\n",
       "    </text>\n",
       "    <path class=\"displacy-arrowhead\" d=\"M4595.0,879.0 L4603.0,867.0 4587.0,867.0\" fill=\"currentColor\"/>\n",
       "</g>\n",
       "\n",
       "<g class=\"displacy-arrow\">\n",
       "    <path class=\"displacy-arc\" id=\"arrow-556decf60f9b48cb9c141f2cfed7c008-0-26\" stroke-width=\"2px\" d=\"M945,877.0 C945,2.0 4775.0,2.0 4775.0,877.0\" fill=\"none\" stroke=\"currentColor\"/>\n",
       "    <text dy=\"1.25em\" style=\"font-size: 0.8em; letter-spacing: 1px\">\n",
       "        <textPath xlink:href=\"#arrow-556decf60f9b48cb9c141f2cfed7c008-0-26\" class=\"displacy-label\" startOffset=\"50%\" side=\"left\" fill=\"currentColor\" text-anchor=\"middle\">appos</textPath>\n",
       "    </text>\n",
       "    <path class=\"displacy-arrowhead\" d=\"M4775.0,879.0 L4783.0,867.0 4767.0,867.0\" fill=\"currentColor\"/>\n",
       "</g>\n",
       "</svg></span>"
      ],
      "text/plain": [
       "<IPython.core.display.HTML object>"
      ]
     },
     "metadata": {},
     "output_type": "display_data"
    }
   ],
   "source": [
    "# style = \"dep\" visualization\n",
    "\n",
    "docVirtu= displacy.render(sentList, style=\"dep\")"
   ]
  },
  {
   "cell_type": "code",
   "execution_count": null,
   "id": "012171a5",
   "metadata": {},
   "outputs": [],
   "source": []
  },
  {
   "cell_type": "code",
   "execution_count": null,
   "id": "438fc5d8",
   "metadata": {},
   "outputs": [],
   "source": [
    "#10. Visulazation"
   ]
  },
  {
   "cell_type": "code",
   "execution_count": null,
   "id": "762fe0e1",
   "metadata": {},
   "outputs": [],
   "source": []
  },
  {
   "cell_type": "code",
   "execution_count": 155,
   "id": "19eabca8",
   "metadata": {},
   "outputs": [],
   "source": [
    "#11. Finding Quotes in Sentences"
   ]
  },
  {
   "cell_type": "code",
   "execution_count": 159,
   "id": "8251cb37",
   "metadata": {},
   "outputs": [],
   "source": [
    "#find the conversation in the text documents\n",
    "#use regex\n"
   ]
  },
  {
   "cell_type": "code",
   "execution_count": 160,
   "id": "2fba51da",
   "metadata": {},
   "outputs": [],
   "source": [
    "# pip install regex"
   ]
  },
  {
   "cell_type": "code",
   "execution_count": 189,
   "id": "bfb39fe0",
   "metadata": {},
   "outputs": [],
   "source": [
    "import re"
   ]
  },
  {
   "cell_type": "code",
   "execution_count": 190,
   "id": "7e89e1d9",
   "metadata": {},
   "outputs": [],
   "source": [
    "#create a regex pattern to find words/sentence between the ' ' / \" \""
   ]
  },
  {
   "cell_type": "code",
   "execution_count": 191,
   "id": "779ba627",
   "metadata": {},
   "outputs": [],
   "source": [
    "def get_covertn(text):\n",
    "    conveSent= re.findall(r\" '(.*?)'\",text)\n",
    "    return conveSent"
   ]
  },
  {
   "cell_type": "code",
   "execution_count": 195,
   "id": "c12065b3",
   "metadata": {},
   "outputs": [],
   "source": [
    "sentences=list(doc.sents)\n",
    "allSentences=(sentences)\n",
    "# print(allSentences)\n",
    "for sent in allSentences:\n",
    "    str_sent=str(sent)\n",
    "#     print(sent)\n",
    "    found_quotes=get_covertn(str_sent)\n",
    "    if len(found_quotes) > 0 :\n",
    "        print(found_quotes)"
   ]
  },
  {
   "cell_type": "code",
   "execution_count": null,
   "id": "7f2e4080",
   "metadata": {},
   "outputs": [],
   "source": []
  }
 ],
 "metadata": {
  "kernelspec": {
   "display_name": "Python [conda env:NER] *",
   "language": "python",
   "name": "conda-env-NER-py"
  },
  "language_info": {
   "codemirror_mode": {
    "name": "ipython",
    "version": 3
   },
   "file_extension": ".py",
   "mimetype": "text/x-python",
   "name": "python",
   "nbconvert_exporter": "python",
   "pygments_lexer": "ipython3",
   "version": "3.8.12"
  }
 },
 "nbformat": 4,
 "nbformat_minor": 5
}
